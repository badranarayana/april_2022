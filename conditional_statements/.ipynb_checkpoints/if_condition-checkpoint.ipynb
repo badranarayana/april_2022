{
 "cells": [
  {
   "cell_type": "code",
   "execution_count": 8,
   "id": "09f33128-aa40-400a-b970-1a3da37135cd",
   "metadata": {},
   "outputs": [
    {
     "name": "stdout",
     "output_type": "stream",
     "text": [
      "Odd number\n"
     ]
    }
   ],
   "source": [
    "# write a program to find given number is even or odd number\n",
    "\n",
    "\n",
    "num = 99\n",
    "\n",
    "if num % 2 == 0:\n",
    "    print(\"even number\")\n",
    "\n",
    "else:\n",
    "    print(\"Odd number\")\n",
    "\n",
    "    "
   ]
  },
  {
   "cell_type": "code",
   "execution_count": 11,
   "id": "aebd333a-899a-4cc7-8de8-42be429d7145",
   "metadata": {},
   "outputs": [
    {
     "name": "stdin",
     "output_type": "stream",
     "text": [
      "Please enter color:  blue\n"
     ]
    },
    {
     "name": "stdout",
     "output_type": "stream",
     "text": [
      "blue not found\n"
     ]
    }
   ],
   "source": [
    "# write a program to find given string in colors list?\n",
    "colors = ['red', 'green' , 'yellow']\n",
    "val = input(\"Please enter color: \")\n",
    "\n",
    "if val in colors:\n",
    "    print(val, \"found in list\")\n",
    "else:\n",
    "    print(val, \"not found\")\n",
    "\n"
   ]
  },
  {
   "cell_type": "code",
   "execution_count": 13,
   "id": "df18b2a2-d588-4a1d-badd-61f62ffab59c",
   "metadata": {},
   "outputs": [
    {
     "name": "stdout",
     "output_type": "stream",
     "text": [
      "both are same objects\n"
     ]
    }
   ],
   "source": [
    "# write a program to check two lists are from sama memeory location?\n",
    "\n",
    "data = [1, 2, 3]\n",
    "data1 = data #[1, 2, 3]\n",
    "\n",
    "if data is data1:\n",
    "    print(\"both are same objects\")\n",
    "else:\n",
    "    print(\"both are different objects\")"
   ]
  },
  {
   "cell_type": "code",
   "execution_count": 20,
   "id": "8f731948-453e-40ed-95c3-af469180ee53",
   "metadata": {},
   "outputs": [
    {
     "name": "stdout",
     "output_type": "stream",
     "text": [
      "40  b is max value\n",
      "end\n"
     ]
    }
   ],
   "source": [
    "# write a program to find max value between 3 numbers\n",
    "\n",
    "a = 100\n",
    "b = 40\n",
    "c = 300\n",
    "\n",
    "if a > b and a > c: # False\n",
    "    print(a, \"a is max value\")\n",
    "\n",
    "elif b > a and b > c:\n",
    "    print(b, \" b is max value\")\n",
    "else:\n",
    "    print(c, \" c is max value\")\n",
    "    \n",
    "\n",
    "print(\"end\")\n"
   ]
  },
  {
   "cell_type": "code",
   "execution_count": 14,
   "id": "eb9da961-18ee-4b6d-8096-b03531d6af51",
   "metadata": {},
   "outputs": [
    {
     "name": "stdin",
     "output_type": "stream",
     "text": [
      "Please enter units:  0\n"
     ]
    },
    {
     "name": "stdout",
     "output_type": "stream",
     "text": [
      "0\n",
      "Power bill: 0\n"
     ]
    }
   ],
   "source": [
    "# power bill calculation\n",
    "\"\"\"\n",
    "\n",
    "prices:\n",
    "\n",
    "1 to 100 --> 2 per unit\n",
    "100 to 150 --> 3 per unit\n",
    "\n",
    "150 to 200 --> 4 per unit\n",
    "\n",
    "above 200 5 per unit\n",
    "\n",
    "\n",
    "user will give units and program should display the net amount \n",
    "\n",
    "\"\"\"\n",
    "\n",
    "units = int(input(\"Please enter units: \"))\n",
    "print(units)\n",
    "\n",
    "if units <= 100:\n",
    "    net_pay = units * 2\n",
    "    \n",
    "elif units > 100 and units <= 150:\n",
    "    remaining = units - 100\n",
    "    net_pay = (100 * 2) + remaining * 3\n",
    "    \n",
    "elif units > 150 and units <= 200:\n",
    "    net_pay =  (100 * 2) + (50 * 3) + (units - 150) * 4\n",
    "else:\n",
    "    net_pay = units * 5\n",
    "    \n",
    "\n",
    "\n",
    "print(\"Power bill:\", net_pay)\n",
    "\n",
    "\n"
   ]
  },
  {
   "cell_type": "code",
   "execution_count": 20,
   "id": "da953448-843e-44c6-bb0c-a99b5d1fb3ca",
   "metadata": {},
   "outputs": [
    {
     "name": "stdin",
     "output_type": "stream",
     "text": [
      "Please enter number:  10\n",
      "Please enter number:  20\n",
      "Please enter operator:  +\n"
     ]
    },
    {
     "name": "stdout",
     "output_type": "stream",
     "text": [
      "output (+):  30\n"
     ]
    }
   ],
   "source": [
    "# write a program to do calculations\n",
    "\"\"\"\n",
    "input1 = 10\n",
    "input2 = 20\n",
    "operator = \"+\"\n",
    "\n",
    "out --> 30\n",
    "\n",
    "input1 = 10\n",
    "input2 = 20\n",
    "operator = \"-\"\n",
    "\n",
    "out = -10\n",
    "\n",
    "\n",
    "\"\"\"\n",
    "num1 = int(input(\"Please enter number: \" ))\n",
    "num2 = int(input(\"Please enter number: \" ))\n",
    "operator = input(\"Please enter operator: \" )\n",
    "\n",
    "# +\n",
    "\n",
    "if operator == '+':\n",
    "    print(\"output (+): \", num1 + num2)\n",
    "elif operator == '-':\n",
    "    print(\"output (-): \", num1 - num2)\n",
    "elif operator == '*':\n",
    "    print(\"output (*): \", num1 * num2)\n",
    "    \n",
    "\n",
    "\n",
    "\n"
   ]
  },
  {
   "cell_type": "code",
   "execution_count": 32,
   "id": "e77aeeec-b90f-4e1b-858c-0b2306adba52",
   "metadata": {},
   "outputs": [
    {
     "name": "stdin",
     "output_type": "stream",
     "text": [
      "Please enter number:  0\n",
      "Please enter number:  -1\n"
     ]
    },
    {
     "name": "stdout",
     "output_type": "stream",
     "text": [
      "Please enter +ve values\n"
     ]
    }
   ],
   "source": [
    "# write a program to check sum value is even number or odd number?\n",
    "\"\"\"\n",
    "val1 = 10\n",
    "val2 = 20\n",
    "sum = 30\n",
    "\n",
    "\n",
    "\"\"\"\n",
    "num1 = int(input(\"Please enter number: \" ))\n",
    "num2 = int(input(\"Please enter number: \" ))\n",
    "\n",
    "if num1 > 0 and num2  > 0:\n",
    "    out = num1 + num2\n",
    "    \n",
    "    # lets find even or odd\n",
    "    if out % 2 == 0:\n",
    "        print(\"sum value: \", out, \"is even number\")\n",
    "    else:\n",
    "        print(\"sum value: \", out, \"is odd number\")\n",
    "else:\n",
    "    print(\"Please enter +ve values\")\n"
   ]
  },
  {
   "cell_type": "code",
   "execution_count": 40,
   "id": "129f499a-3719-4bca-aed6-552a590c0817",
   "metadata": {},
   "outputs": [
    {
     "name": "stdin",
     "output_type": "stream",
     "text": [
      "Please enter number:  3\n",
      "Please enter number:  0\n"
     ]
    },
    {
     "name": "stdout",
     "output_type": "stream",
     "text": [
      "Please enter +ve values\n"
     ]
    }
   ],
   "source": [
    "num1 = int(input(\"Please enter number: \" ))\n",
    "num2 = int(input(\"Please enter number: \" ))\n",
    "\n",
    "# None, 0, '', [] --> False\n",
    "\n",
    "out = None\n",
    "if num1 > 0 or num2  > 0:\n",
    "    out = num1 + num2\n",
    "else:\n",
    "    print(\"Please enter +ve values\")\n",
    "\n",
    "# lets find even or odd\n",
    "if out:\n",
    "    if out % 2 == 0:\n",
    "        print(\"sum value: \", out, \"is even number\")\n",
    "    else:\n",
    "        print(\"sum value: \", out, \"is odd number\")"
   ]
  },
  {
   "cell_type": "code",
   "execution_count": null,
   "id": "b70f0165-e2db-47d2-892d-62417aa15833",
   "metadata": {},
   "outputs": [],
   "source": []
  },
  {
   "cell_type": "code",
   "execution_count": null,
   "id": "3c0e8694-af80-4409-b49b-618f29333d84",
   "metadata": {},
   "outputs": [],
   "source": []
  }
 ],
 "metadata": {
  "kernelspec": {
   "display_name": "Python 3 (ipykernel)",
   "language": "python",
   "name": "python3"
  },
  "language_info": {
   "codemirror_mode": {
    "name": "ipython",
    "version": 3
   },
   "file_extension": ".py",
   "mimetype": "text/x-python",
   "name": "python",
   "nbconvert_exporter": "python",
   "pygments_lexer": "ipython3",
   "version": "3.10.4"
  }
 },
 "nbformat": 4,
 "nbformat_minor": 5
}
