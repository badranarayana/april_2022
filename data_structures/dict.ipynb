{
 "cells": [
  {
   "cell_type": "code",
   "execution_count": null,
   "id": "c070f967-3af8-4148-ada7-6e5308d92f25",
   "metadata": {},
   "outputs": [],
   "source": [
    "# What is dict?\n",
    "\n",
    "\"\"\"\n",
    "dict is an one of the data structure in python and it is an mutable object.\n",
    "\n",
    "* dict can be created by using curly brakets {}\n",
    "\n",
    "* dict key should be immutable object and value could be any python object\n",
    "\n",
    "* we can access data from dict by using key.\n",
    "\n",
    "\n",
    "\n",
    "syntax:\n",
    "------\n",
    "\n",
    "data = {}   # empty dict\n",
    "\n",
    "or \n",
    "data = dict()\n",
    "\n",
    "\n",
    "# dict with initial data\n",
    "data = {'name': \"Ramu\", 'age': 30}\n",
    "\n",
    "\"\"\""
   ]
  },
  {
   "cell_type": "code",
   "execution_count": 2,
   "id": "93939376-bb2d-48d6-8dd3-a711185a0fa7",
   "metadata": {},
   "outputs": [
    {
     "name": "stdout",
     "output_type": "stream",
     "text": [
      "{'name': 'CBIT', 'branch': 'hyderabad', 'address': 'G pet, hyderbad'}\n",
      "CBIT\n"
     ]
    }
   ],
   "source": [
    "# example\n",
    "college_details = {\n",
    "                     'name': 'CBIT',\n",
    "                      'branch': \"hyderabad\",\n",
    "                      'address': \"G pet, hyderbad\"\n",
    "}\n",
    "\n",
    "print(college_details)\n",
    "\n",
    "# get college name\\\n",
    "print(college_details['name'])"
   ]
  },
  {
   "cell_type": "code",
   "execution_count": 4,
   "id": "56a1e763-6bc6-4986-8b34-c50dfbadb7ac",
   "metadata": {},
   "outputs": [
    {
     "ename": "KeyError",
     "evalue": "'Address'",
     "output_type": "error",
     "traceback": [
      "\u001b[1;31m---------------------------------------------------------------------------\u001b[0m",
      "\u001b[1;31mKeyError\u001b[0m                                  Traceback (most recent call last)",
      "Input \u001b[1;32mIn [4]\u001b[0m, in \u001b[0;36m<cell line: 2>\u001b[1;34m()\u001b[0m\n\u001b[0;32m      1\u001b[0m \u001b[38;5;66;03m#get the address\u001b[39;00m\n\u001b[1;32m----> 2\u001b[0m \u001b[38;5;28mprint\u001b[39m(\u001b[43mcollege_details\u001b[49m\u001b[43m[\u001b[49m\u001b[38;5;124;43m'\u001b[39;49m\u001b[38;5;124;43mAddress\u001b[39;49m\u001b[38;5;124;43m'\u001b[39;49m\u001b[43m]\u001b[49m)\n",
      "\u001b[1;31mKeyError\u001b[0m: 'Address'"
     ]
    }
   ],
   "source": [
    "#get the address\n",
    "print(college_details['address'])"
   ]
  },
  {
   "cell_type": "code",
   "execution_count": 6,
   "id": "2efb36eb-c6dd-4afb-978c-6cdb598673e3",
   "metadata": {},
   "outputs": [
    {
     "name": "stdout",
     "output_type": "stream",
     "text": [
      "{'name': 'CBIT', 'branch': 'hyderabad', 'address': 'Ameertpet, hyderabad'}\n"
     ]
    }
   ],
   "source": [
    "# update address data in dict\n",
    "college_details['address'] = \"Ameertpet, hyderabad\"\n",
    "print(college_details)"
   ]
  },
  {
   "cell_type": "code",
   "execution_count": 7,
   "id": "eb739196-f1ae-4c32-ba6c-092c8719964d",
   "metadata": {},
   "outputs": [
    {
     "name": "stdout",
     "output_type": "stream",
     "text": [
      "{'name': 'CBIT', 'branch': 'hyderabad', 'address': 'Ameertpet, hyderabad', 'pin_code': '5000758'}\n"
     ]
    }
   ],
   "source": [
    "# add new key to dict\n",
    "college_details['pin_code'] = \"5000758\"\n",
    "print(college_details)"
   ]
  },
  {
   "cell_type": "code",
   "execution_count": 8,
   "id": "97c5ab4e-7d98-491a-ae86-ff767e2d1517",
   "metadata": {},
   "outputs": [
    {
     "name": "stdout",
     "output_type": "stream",
     "text": [
      "5000758\n"
     ]
    }
   ],
   "source": [
    "# read data from\n",
    "print(college_details['pin_code'])"
   ]
  },
  {
   "cell_type": "code",
   "execution_count": 9,
   "id": "70ad1d23-346b-4df1-9c7f-1777286b3bc8",
   "metadata": {},
   "outputs": [
    {
     "name": "stdout",
     "output_type": "stream",
     "text": [
      "{'name': 'CBIT', 'branch': 'hyderabad', 'address': 'Ameertpet, hyderabad', 'pin_code': '888383838'}\n"
     ]
    }
   ],
   "source": [
    "# update data in dict\n",
    "college_details['pin_code'] = \"888383838\"\n",
    "\n",
    "print(college_details)"
   ]
  },
  {
   "cell_type": "code",
   "execution_count": 10,
   "id": "5422e6cc-d0cb-4472-aed1-66d083ce604c",
   "metadata": {},
   "outputs": [
    {
     "name": "stdout",
     "output_type": "stream",
     "text": [
      "{'name': 'CBIT', 'branch': 'hyderabad', 'address': 'Ameertpet, hyderabad', 'pin_code': '888383838', 'ceo_name': 'Praveen'}\n"
     ]
    }
   ],
   "source": [
    "# added new item tp dict\n",
    "college_details['ceo_name'] = 'Praveen'\n",
    "\n",
    "print(college_details)"
   ]
  },
  {
   "cell_type": "code",
   "execution_count": 11,
   "id": "55db76b2-dbc1-4cfd-b9c2-6b2e1f55d0ce",
   "metadata": {},
   "outputs": [
    {
     "name": "stdout",
     "output_type": "stream",
     "text": [
      "{'name': 'CBIT', 'branch': 'hyderabad', 'address': 'Ameertpet, hyderabad', 'pin_code': '888383838', 'ceo_name': 'mahesh'}\n"
     ]
    }
   ],
   "source": [
    "college_details['ceo_name'] = 'mahesh'\n",
    "print(college_details)"
   ]
  },
  {
   "cell_type": "code",
   "execution_count": 14,
   "id": "fc94b8a5-9d55-40b2-9504-64f8a74b73ab",
   "metadata": {},
   "outputs": [
    {
     "name": "stdout",
     "output_type": "stream",
     "text": [
      "{'name': 'CBIT', 'branch': 'hyderabad', 'address': 'Ameertpet, hyderabad', 'ceo_name': 'mahesh'}\n",
      "{'name': 'CBIT', 'address': 'Ameertpet, hyderabad', 'ceo_name': 'mahesh'}\n"
     ]
    }
   ],
   "source": [
    "# read, update, create\n",
    "# delete?\n",
    "#del college_details['pin_code']\n",
    "\n",
    "print(college_details)\n",
    "\n",
    "# lets remove/delete\n",
    "del college_details['branch']\n",
    "print(college_details)"
   ]
  },
  {
   "cell_type": "code",
   "execution_count": 16,
   "id": "ecc49609-5a8c-4ba7-90d7-7580caf92f43",
   "metadata": {},
   "outputs": [
    {
     "name": "stdout",
     "output_type": "stream",
     "text": [
      "CBIT\n",
      "Ameertpet, hyderabad\n",
      "mahesh\n"
     ]
    }
   ],
   "source": [
    "# can we iterate over dict?\n",
    "for i in college_details:\n",
    "    print(college_details[i])"
   ]
  },
  {
   "cell_type": "code",
   "execution_count": 17,
   "id": "5bf7fe32-6373-4922-90e8-c90b037ff394",
   "metadata": {},
   "outputs": [
    {
     "name": "stdout",
     "output_type": "stream",
     "text": [
      "3\n"
     ]
    }
   ],
   "source": [
    "# lets apply built in functions\n",
    "\n",
    "print(len(college_details))"
   ]
  },
  {
   "cell_type": "code",
   "execution_count": 18,
   "id": "b02f4440-002d-4625-9d44-3620dc9d6542",
   "metadata": {},
   "outputs": [
    {
     "name": "stdout",
     "output_type": "stream",
     "text": [
      "Help on dict object:\n",
      "\n",
      "class dict(object)\n",
      " |  dict() -> new empty dictionary\n",
      " |  dict(mapping) -> new dictionary initialized from a mapping object's\n",
      " |      (key, value) pairs\n",
      " |  dict(iterable) -> new dictionary initialized as if via:\n",
      " |      d = {}\n",
      " |      for k, v in iterable:\n",
      " |          d[k] = v\n",
      " |  dict(**kwargs) -> new dictionary initialized with the name=value pairs\n",
      " |      in the keyword argument list.  For example:  dict(one=1, two=2)\n",
      " |  \n",
      " |  Built-in subclasses:\n",
      " |      StgDict\n",
      " |  \n",
      " |  Methods defined here:\n",
      " |  \n",
      " |  __contains__(self, key, /)\n",
      " |      True if the dictionary has the specified key, else False.\n",
      " |  \n",
      " |  __delitem__(self, key, /)\n",
      " |      Delete self[key].\n",
      " |  \n",
      " |  __eq__(self, value, /)\n",
      " |      Return self==value.\n",
      " |  \n",
      " |  __ge__(self, value, /)\n",
      " |      Return self>=value.\n",
      " |  \n",
      " |  __getattribute__(self, name, /)\n",
      " |      Return getattr(self, name).\n",
      " |  \n",
      " |  __getitem__(...)\n",
      " |      x.__getitem__(y) <==> x[y]\n",
      " |  \n",
      " |  __gt__(self, value, /)\n",
      " |      Return self>value.\n",
      " |  \n",
      " |  __init__(self, /, *args, **kwargs)\n",
      " |      Initialize self.  See help(type(self)) for accurate signature.\n",
      " |  \n",
      " |  __ior__(self, value, /)\n",
      " |      Return self|=value.\n",
      " |  \n",
      " |  __iter__(self, /)\n",
      " |      Implement iter(self).\n",
      " |  \n",
      " |  __le__(self, value, /)\n",
      " |      Return self<=value.\n",
      " |  \n",
      " |  __len__(self, /)\n",
      " |      Return len(self).\n",
      " |  \n",
      " |  __lt__(self, value, /)\n",
      " |      Return self<value.\n",
      " |  \n",
      " |  __ne__(self, value, /)\n",
      " |      Return self!=value.\n",
      " |  \n",
      " |  __or__(self, value, /)\n",
      " |      Return self|value.\n",
      " |  \n",
      " |  __repr__(self, /)\n",
      " |      Return repr(self).\n",
      " |  \n",
      " |  __reversed__(self, /)\n",
      " |      Return a reverse iterator over the dict keys.\n",
      " |  \n",
      " |  __ror__(self, value, /)\n",
      " |      Return value|self.\n",
      " |  \n",
      " |  __setitem__(self, key, value, /)\n",
      " |      Set self[key] to value.\n",
      " |  \n",
      " |  __sizeof__(...)\n",
      " |      D.__sizeof__() -> size of D in memory, in bytes\n",
      " |  \n",
      " |  clear(...)\n",
      " |      D.clear() -> None.  Remove all items from D.\n",
      " |  \n",
      " |  copy(...)\n",
      " |      D.copy() -> a shallow copy of D\n",
      " |  \n",
      " |  get(self, key, default=None, /)\n",
      " |      Return the value for key if key is in the dictionary, else default.\n",
      " |  \n",
      " |  items(...)\n",
      " |      D.items() -> a set-like object providing a view on D's items\n",
      " |  \n",
      " |  keys(...)\n",
      " |      D.keys() -> a set-like object providing a view on D's keys\n",
      " |  \n",
      " |  pop(...)\n",
      " |      D.pop(k[,d]) -> v, remove specified key and return the corresponding value.\n",
      " |      \n",
      " |      If the key is not found, return the default if given; otherwise,\n",
      " |      raise a KeyError.\n",
      " |  \n",
      " |  popitem(self, /)\n",
      " |      Remove and return a (key, value) pair as a 2-tuple.\n",
      " |      \n",
      " |      Pairs are returned in LIFO (last-in, first-out) order.\n",
      " |      Raises KeyError if the dict is empty.\n",
      " |  \n",
      " |  setdefault(self, key, default=None, /)\n",
      " |      Insert key with a value of default if key is not in the dictionary.\n",
      " |      \n",
      " |      Return the value for key if key is in the dictionary, else default.\n",
      " |  \n",
      " |  update(...)\n",
      " |      D.update([E, ]**F) -> None.  Update D from dict/iterable E and F.\n",
      " |      If E is present and has a .keys() method, then does:  for k in E: D[k] = E[k]\n",
      " |      If E is present and lacks a .keys() method, then does:  for k, v in E: D[k] = v\n",
      " |      In either case, this is followed by: for k in F:  D[k] = F[k]\n",
      " |  \n",
      " |  values(...)\n",
      " |      D.values() -> an object providing a view on D's values\n",
      " |  \n",
      " |  ----------------------------------------------------------------------\n",
      " |  Class methods defined here:\n",
      " |  \n",
      " |  __class_getitem__(...) from builtins.type\n",
      " |      See PEP 585\n",
      " |  \n",
      " |  fromkeys(iterable, value=None, /) from builtins.type\n",
      " |      Create a new dictionary with keys from iterable and values set to value.\n",
      " |  \n",
      " |  ----------------------------------------------------------------------\n",
      " |  Static methods defined here:\n",
      " |  \n",
      " |  __new__(*args, **kwargs) from builtins.type\n",
      " |      Create and return a new object.  See help(type) for accurate signature.\n",
      " |  \n",
      " |  ----------------------------------------------------------------------\n",
      " |  Data and other attributes defined here:\n",
      " |  \n",
      " |  __hash__ = None\n",
      "\n",
      "None\n"
     ]
    }
   ],
   "source": [
    "# lets look into dict methods\n",
    "\n",
    "print(help({}))"
   ]
  },
  {
   "cell_type": "code",
   "execution_count": null,
   "id": "f2f71d2d-7c5e-48fc-be8a-874f1fd886ee",
   "metadata": {},
   "outputs": [],
   "source": [
    "# dict methods\n",
    "\"\"\"\n",
    "clear(...)\n",
    " |      D.clear() -> None.  Remove all items from D.\n",
    " |  \n",
    " |  copy(...)\n",
    " |      D.copy() -> a shallow copy of D\n",
    " |  \n",
    " |  get(self, key, default=None, /)\n",
    " |      Return the value for key if key is in the dictionary, else default.\n",
    " |  \n",
    " |  items(...)\n",
    " |      D.items() -> a set-like object providing a view on D's items\n",
    " |  \n",
    " |  keys(...)\n",
    " |      D.keys() -> a set-like object providing a view on D's keys\n",
    " |  \n",
    " |  pop(...)\n",
    " |      D.pop(k[,d]) -> v, remove specified key and return the corresponding value.\n",
    " |      \n",
    " |      If the key is not found, return the default if given; otherwise,\n",
    " |      raise a KeyError.\n",
    " |  \n",
    " |  popitem(self, /)\n",
    " |      Remove and return a (key, value) pair as a 2-tuple.\n",
    " |      \n",
    " |      Pairs are returned in LIFO (last-in, first-out) order.\n",
    " |      Raises KeyError if the dict is empty.\n",
    " |  \n",
    " |  setdefault(self, key, default=None, /)\n",
    " |      Insert key with a value of default if key is not in the dictionary.\n",
    " |      \n",
    " |      Return the value for key if key is in the dictionary, else default.\n",
    " |  \n",
    " |  update(...)\n",
    " |      D.update([E, ]**F) -> None.  Update D from dict/iterable E and F.\n",
    " |      If E is present and has a .keys() method, then does:  for k in E: D[k] = E[k]\n",
    " |      If E is present and lacks a .keys() method, then does:  for k, v in E: D[k] = v\n",
    " |      In either case, this is followed by: for k in F:  D[k] = F[k]\n",
    " |  \n",
    " |  values(...)\n",
    " |      D.values() -> an object providing a view on D's values\n",
    " |  \n",
    "\n",
    "\n",
    "\"\"\""
   ]
  },
  {
   "cell_type": "code",
   "execution_count": 25,
   "id": "4e4faaa8-818c-4e32-81cf-fccd20307ab1",
   "metadata": {},
   "outputs": [
    {
     "ename": "KeyError",
     "evalue": "'Modal'",
     "output_type": "error",
     "traceback": [
      "\u001b[1;31m---------------------------------------------------------------------------\u001b[0m",
      "\u001b[1;31mKeyError\u001b[0m                                  Traceback (most recent call last)",
      "Input \u001b[1;32mIn [25]\u001b[0m, in \u001b[0;36m<cell line: 4>\u001b[1;34m()\u001b[0m\n\u001b[0;32m      1\u001b[0m car_details \u001b[38;5;241m=\u001b[39m { \u001b[38;5;124m'\u001b[39m\u001b[38;5;124mbrand\u001b[39m\u001b[38;5;124m'\u001b[39m: \u001b[38;5;124m\"\u001b[39m\u001b[38;5;124mHonda\u001b[39m\u001b[38;5;124m\"\u001b[39m, \u001b[38;5;124m\"\u001b[39m\u001b[38;5;124mmodal\u001b[39m\u001b[38;5;124m\"\u001b[39m: \u001b[38;5;124m\"\u001b[39m\u001b[38;5;124mCity\u001b[39m\u001b[38;5;124m\"\u001b[39m, \u001b[38;5;124m\"\u001b[39m\u001b[38;5;124mprice\u001b[39m\u001b[38;5;124m\"\u001b[39m: \u001b[38;5;241m9300000\u001b[39m}\n\u001b[0;32m      3\u001b[0m \u001b[38;5;66;03m# get()\u001b[39;00m\n\u001b[1;32m----> 4\u001b[0m \u001b[38;5;28mprint\u001b[39m(\u001b[43mcar_details\u001b[49m\u001b[43m[\u001b[49m\u001b[38;5;124;43m'\u001b[39;49m\u001b[38;5;124;43mModal\u001b[39;49m\u001b[38;5;124;43m'\u001b[39;49m\u001b[43m]\u001b[49m)\n\u001b[0;32m      5\u001b[0m \u001b[38;5;28mprint\u001b[39m(car_details\u001b[38;5;241m.\u001b[39mget(\u001b[38;5;124m'\u001b[39m\u001b[38;5;124mmodal\u001b[39m\u001b[38;5;124m'\u001b[39m, \u001b[38;5;124m\"\u001b[39m\u001b[38;5;124mno key found\u001b[39m\u001b[38;5;124m\"\u001b[39m))\n",
      "\u001b[1;31mKeyError\u001b[0m: 'Modal'"
     ]
    }
   ],
   "source": [
    "car_details = { 'brand': \"Honda\", \"modal\": \"City\", \"price\": 9300000}\n",
    "\n",
    "# get()\n",
    "print(car_details['Modal'])\n",
    "print(car_details.get('modal', \"no key found\"))"
   ]
  },
  {
   "cell_type": "code",
   "execution_count": 28,
   "id": "72a38210-95db-4c9f-a117-b8c5bfd7a6fa",
   "metadata": {},
   "outputs": [
    {
     "name": "stdout",
     "output_type": "stream",
     "text": [
      "{'brand': 'Honda', 'modal': 'City', 'price': 9300000, 'type': 'Petror', 'capacity': '200cc'}\n",
      "{'brand': 'Honda', 'modal': 'City', 'price': 300000, 'type': 'Petror', 'capacity': '200cc'}\n"
     ]
    }
   ],
   "source": [
    "# extenc dict with another dict\n",
    "print(car_details)\n",
    "\n",
    "engine_details = {'type': \"Petror\", \"capacity\": \"200cc\", 'price': 300000}\n",
    "\n",
    "\n",
    "car_details.update(engine_details)\n",
    "\n",
    "print(car_details)"
   ]
  },
  {
   "cell_type": "code",
   "execution_count": 30,
   "id": "1b969d18-ac1c-4db9-9af7-1b8d3d9bdb4a",
   "metadata": {},
   "outputs": [
    {
     "name": "stdout",
     "output_type": "stream",
     "text": [
      "dict_keys(['brand', 'modal', 'price', 'type', 'capacity'])\n",
      "dict_values(['Honda', 'City', 300000, 'Petror', '200cc'])\n"
     ]
    }
   ],
   "source": [
    "# how to get key and value in loop\n",
    "# keys()\n",
    "# values()\n",
    "\n",
    "print(car_details.keys()) # returns dict keys\n",
    "print(car_details.values()) # return dict values"
   ]
  },
  {
   "cell_type": "code",
   "execution_count": 31,
   "id": "da06fb1d-5382-4ef5-9ee2-7e5495d0af87",
   "metadata": {},
   "outputs": [
    {
     "name": "stdout",
     "output_type": "stream",
     "text": [
      "dict_items([('brand', 'Honda'), ('modal', 'City'), ('price', 300000), ('type', 'Petror'), ('capacity', '200cc')])\n"
     ]
    }
   ],
   "source": [
    "# items() --> returns key and value\n",
    "\n",
    "print(car_details.items())"
   ]
  },
  {
   "cell_type": "code",
   "execution_count": 34,
   "id": "bc168772-20bf-4dbf-8fdb-f2132a3f6c7a",
   "metadata": {},
   "outputs": [
    {
     "name": "stdout",
     "output_type": "stream",
     "text": [
      "key : brand ---> value: Honda\n",
      "key : modal ---> value: City\n",
      "key : price ---> value: 300000\n",
      "key : type ---> value: Petror\n",
      "key : capacity ---> value: 200cc\n"
     ]
    }
   ],
   "source": [
    "for key, value in car_details.items():\n",
    "    print(f'key : {key} ---> value: {value}')\n",
    "    "
   ]
  },
  {
   "cell_type": "code",
   "execution_count": 37,
   "id": "41393bc9-c310-4af3-8ba2-a491640e52cd",
   "metadata": {},
   "outputs": [
    {
     "name": "stdout",
     "output_type": "stream",
     "text": [
      "2\n",
      "{'a': 1}\n"
     ]
    }
   ],
   "source": [
    "# dict provides two functions to delete the data\n",
    "# pop(), popitem()\n",
    "\n",
    "\n",
    "data = {'a': 1, 'b': 2, 'c': 3}\n",
    "\n",
    "deleted_val = data.pop('b')  # it removes the key and values and return value back\n",
    "print(deleted_val)\n",
    "\n",
    "data.popitem() # deletes the lats key value pair\n",
    "\n",
    "print(data)"
   ]
  },
  {
   "cell_type": "code",
   "execution_count": 42,
   "id": "172fcdb4-7e8a-4063-8e99-98ef9154ae0a",
   "metadata": {},
   "outputs": [
    {
     "name": "stdout",
     "output_type": "stream",
     "text": [
      "{'a': 1, 'b': 2}\n",
      "{'a': 1}\n",
      "{}\n"
     ]
    },
    {
     "data": {
      "text/plain": [
       "'\\npop(key) is used to delete key value by providing kay as input\\n\\npopitem() is used to delete last key/value in dict\\n\\n\\n'"
      ]
     },
     "execution_count": 42,
     "metadata": {},
     "output_type": "execute_result"
    }
   ],
   "source": [
    "# popitem() --> removes the last key value pair\n",
    "data = {'a': 1, 'b': 2, 'c': 3}\n",
    "\n",
    "\n",
    "data.popitem()\n",
    "\n",
    "print(data)\n",
    "data.popitem()\n",
    "print(data)\n",
    "data.popitem()\n",
    "\n",
    "print(data)\n",
    "\n",
    "#data.popitem()  \n",
    "\n",
    "# note: popitem() throws an exception if dict is empty\n",
    "\n",
    "\n",
    "# difference between pop() and popItem()?\n",
    "\"\"\"\n",
    "pop(key) is used to delete key value by providing kay as input\n",
    "\n",
    "popitem() is used to delete last key/value in dict\n",
    "\n",
    "\n",
    "\"\"\"\n",
    "\n"
   ]
  },
  {
   "cell_type": "code",
   "execution_count": 45,
   "id": "b1aaee8a-8dd2-4c4c-9f96-d4e783168c56",
   "metadata": {},
   "outputs": [
    {
     "name": "stdout",
     "output_type": "stream",
     "text": [
      "{'a': 1, 'b': 2, 'c': 3, 'd': 10}\n",
      "{'a': 1, 'b': 2, 'c': 3}\n"
     ]
    }
   ],
   "source": [
    "data = {'a':1, 'b': 2, 'c': 3}\n",
    "\n",
    "data2 = data.copy()\n",
    "\n",
    "data2['d'] = 10\n",
    "print(data2)\n",
    "print(data)"
   ]
  },
  {
   "cell_type": "code",
   "execution_count": 49,
   "id": "0d533c59-58e3-4761-9181-0bd5184bb7cc",
   "metadata": {},
   "outputs": [
    {
     "name": "stdout",
     "output_type": "stream",
     "text": [
      "{'a': 10, 'b': 'default'}\n"
     ]
    }
   ],
   "source": [
    "\n",
    "#setdefault()  \n",
    "\n",
    "data = {'a': 10}\n",
    "\n",
    "data.setdefault('b', 'default')  # it will add new key and default value if key not present in dict.\n",
    "print(data)"
   ]
  },
  {
   "cell_type": "code",
   "execution_count": 54,
   "id": "6834cee4-2a25-42f8-80a1-c7267a684dbd",
   "metadata": {},
   "outputs": [
    {
     "name": "stdout",
     "output_type": "stream",
     "text": [
      "902000222\n"
     ]
    }
   ],
   "source": [
    "my_details = {\n",
    "    'personal': {'name': \"Vamsi\", 'age': 26, 'mobile_no': \"902000222\"},\n",
    "    'education': {\"college_name\": \"xbxbxb\", \"branch\": 'EEE', 'passout': 2022},\n",
    "    'bank_accounts': [{'bank_name': 'HDFC', 'account_no': 38838383},\n",
    "                      {'bank_name': 'sbi', 'account_no': 38838384},\n",
    "                      {'bank_name': 'icici', 'account_no': 3883555},\n",
    "                     ] \n",
    "\n",
    "}\n",
    "\n",
    "mobile_no = my_details['personal']['mobile_no']\n",
    "print(mobile_no)"
   ]
  },
  {
   "cell_type": "code",
   "execution_count": 53,
   "id": "bf08441c-87f8-4de6-8f8e-ebae34f58b78",
   "metadata": {},
   "outputs": [
    {
     "name": "stdout",
     "output_type": "stream",
     "text": [
      "{'bank_name': 'sbi', 'account_no': 38838384}\n"
     ]
    }
   ],
   "source": [
    "for bank in my_details['bank_accounts']:\n",
    "    #bank_name = bank.get('bank_name')\n",
    "    if bank['bank_name'] == 'sbi':\n",
    "        print(bank)\n"
   ]
  },
  {
   "cell_type": "code",
   "execution_count": null,
   "id": "f28a3708-1245-44c9-aa4f-6ca053dcf174",
   "metadata": {},
   "outputs": [],
   "source": []
  }
 ],
 "metadata": {
  "kernelspec": {
   "display_name": "Python 3 (ipykernel)",
   "language": "python",
   "name": "python3"
  },
  "language_info": {
   "codemirror_mode": {
    "name": "ipython",
    "version": 3
   },
   "file_extension": ".py",
   "mimetype": "text/x-python",
   "name": "python",
   "nbconvert_exporter": "python",
   "pygments_lexer": "ipython3",
   "version": "3.10.4"
  }
 },
 "nbformat": 4,
 "nbformat_minor": 5
}
