{
 "cells": [
  {
   "cell_type": "code",
   "execution_count": 1,
   "id": "b77abe05-03d4-4c39-8923-25d0a7271089",
   "metadata": {},
   "outputs": [
    {
     "name": "stdout",
     "output_type": "stream",
     "text": [
      "[10]\n"
     ]
    }
   ],
   "source": [
    "# Data structure?\n",
    "\n",
    "# interface that should provide facility to manage data \n",
    "data = []\n",
    "\n",
    "# add\n",
    "data.append(10)\n",
    "print(data)"
   ]
  },
  {
   "cell_type": "code",
   "execution_count": null,
   "id": "7861d68a-2323-4e24-b3cb-31d5c24c341d",
   "metadata": {},
   "outputs": [],
   "source": []
  },
  {
   "cell_type": "code",
   "execution_count": null,
   "id": "9e58e135-f717-4c05-ae2d-e34ce1bf35b4",
   "metadata": {},
   "outputs": [],
   "source": []
  },
  {
   "cell_type": "code",
   "execution_count": 2,
   "id": "57fa53a1-b6b7-4943-861a-dc863ad25dd8",
   "metadata": {},
   "outputs": [
    {
     "name": "stdout",
     "output_type": "stream",
     "text": [
      "[10, 30]\n"
     ]
    }
   ],
   "source": [
    "# add\n",
    "data.append(30)\n",
    "print(data)"
   ]
  },
  {
   "cell_type": "code",
   "execution_count": 4,
   "id": "1008b092-6c49-488c-8326-8c0d47d75a8c",
   "metadata": {},
   "outputs": [
    {
     "name": "stdout",
     "output_type": "stream",
     "text": [
      "['__add__', '__class__', '__class_getitem__', '__contains__', '__delattr__', '__delitem__', '__dir__', '__doc__', '__eq__', '__format__', '__ge__', '__getattribute__', '__getitem__', '__gt__', '__hash__', '__iadd__', '__imul__', '__init__', '__init_subclass__', '__iter__', '__le__', '__len__', '__lt__', '__mul__', '__ne__', '__new__', '__reduce__', '__reduce_ex__', '__repr__', '__reversed__', '__rmul__', '__setattr__', '__setitem__', '__sizeof__', '__str__', '__subclasshook__', 'append', 'clear', 'copy', 'count', 'extend', 'index', 'insert', 'pop', 'remove', 'reverse', 'sort']\n"
     ]
    }
   ],
   "source": [
    "# dir\n",
    "print(dir([]))"
   ]
  },
  {
   "cell_type": "code",
   "execution_count": 6,
   "id": "9a85ca14-01b5-4611-b0c7-c82ffb387ec8",
   "metadata": {},
   "outputs": [
    {
     "name": "stdout",
     "output_type": "stream",
     "text": [
      "['__add__', '__class__', '__class_getitem__', '__contains__', '__delattr__', '__dir__', '__doc__', '__eq__', '__format__', '__ge__', '__getattribute__', '__getitem__', '__getnewargs__', '__gt__', '__hash__', '__init__', '__init_subclass__', '__iter__', '__le__', '__len__', '__lt__', '__mul__', '__ne__', '__new__', '__reduce__', '__reduce_ex__', '__repr__', '__rmul__', '__setattr__', '__sizeof__', '__str__', '__subclasshook__', 'count', 'index']\n"
     ]
    }
   ],
   "source": [
    "print(dir((1,)))"
   ]
  },
  {
   "cell_type": "code",
   "execution_count": null,
   "id": "fe137b3d-5ca1-4740-a9c8-5dc3e7f410c5",
   "metadata": {},
   "outputs": [],
   "source": [
    "# how to define list?\n",
    "\n",
    "\"\"\"\n",
    "data = []  # empty list\n",
    "\n",
    "data = [1,2, 3] # list with  3 items\n",
    "\n",
    "data = list()  # it creates empty list []\n",
    "\n",
    "\n",
    "what is list?\n",
    "--> list is a mutable sequence object in python\n",
    "--> we can create list by using list brackets []\n",
    "--> list stores data in the form index position, \n",
    "    that means every item in list will be associated with one index poistion\n",
    "\n",
    "--> list index starts with 0 and ends with n - 1 (n is lenghth of list)\n",
    "--> list can be accessable in forward direction(+index), and back ward direction(-ve index)\n",
    "--> -ve index start with -1 and ends with -n\n",
    "\n",
    "\n",
    "Note: since list is mutable object, so we can manipulate data in list once object created in memory\n",
    "\n",
    "# CRUD\n",
    "C --> create\n",
    "R --> read\n",
    "U --> update\n",
    "d --> delete\n",
    "\n",
    "\"\"\""
   ]
  },
  {
   "cell_type": "code",
   "execution_count": 7,
   "id": "f5182e70-daa4-4bb4-bb7c-7f3f9060c8de",
   "metadata": {},
   "outputs": [
    {
     "name": "stdout",
     "output_type": "stream",
     "text": [
      "[]\n"
     ]
    }
   ],
   "source": [
    "# create empty list\n",
    "colors = []   \n",
    "print(colors)\n"
   ]
  },
  {
   "cell_type": "code",
   "execution_count": 8,
   "id": "79130acd-fe4a-4f26-be66-270bead0b0c9",
   "metadata": {},
   "outputs": [
    {
     "name": "stdout",
     "output_type": "stream",
     "text": [
      "[]\n"
     ]
    }
   ],
   "source": [
    "colors = list()\n",
    "print(colors)"
   ]
  },
  {
   "cell_type": "code",
   "execution_count": 9,
   "id": "f80f9811-2070-4744-a928-d0302179b369",
   "metadata": {},
   "outputs": [
    {
     "name": "stdout",
     "output_type": "stream",
     "text": [
      "['green']\n"
     ]
    }
   ],
   "source": [
    "# lets add some colors to the list\n",
    "colors.append(\"green\")\n",
    "print(colors)"
   ]
  },
  {
   "cell_type": "code",
   "execution_count": 10,
   "id": "61b0d4ff-9f63-43a5-95b1-428a551a2916",
   "metadata": {},
   "outputs": [
    {
     "name": "stdout",
     "output_type": "stream",
     "text": [
      "['green', 'red']\n"
     ]
    }
   ],
   "source": [
    "# another colors\n",
    "colors.append(\"red\")\n",
    "print(colors)"
   ]
  },
  {
   "cell_type": "code",
   "execution_count": 14,
   "id": "5e2cacfb-fb96-4531-954c-e2246c291a35",
   "metadata": {},
   "outputs": [
    {
     "name": "stdout",
     "output_type": "stream",
     "text": [
      "green\n",
      "red\n",
      "red\n",
      "green\n"
     ]
    }
   ],
   "source": [
    "# how to access data\n",
    "# index\n",
    "print(colors[0])\n",
    "print(colors[1])\n",
    "\n",
    "# -ve\n",
    "print(colors[-1])\n",
    "print(colors[-2])"
   ]
  },
  {
   "cell_type": "code",
   "execution_count": 26,
   "id": "0416a31e-6bb8-4e14-bdea-7eb722768b14",
   "metadata": {},
   "outputs": [
    {
     "name": "stdout",
     "output_type": "stream",
     "text": [
      "['white', 'yellow']\n",
      "['white', 'yellow']\n"
     ]
    },
    {
     "ename": "IndexError",
     "evalue": "list assignment index out of range",
     "output_type": "error",
     "traceback": [
      "\u001b[1;31m---------------------------------------------------------------------------\u001b[0m",
      "\u001b[1;31mIndexError\u001b[0m                                Traceback (most recent call last)",
      "Input \u001b[1;32mIn [26]\u001b[0m, in \u001b[0;36m<cell line: 11>\u001b[1;34m()\u001b[0m\n\u001b[0;32m      8\u001b[0m colors[\u001b[38;5;241m-\u001b[39m\u001b[38;5;241m1\u001b[39m] \u001b[38;5;241m=\u001b[39m \u001b[38;5;124m\"\u001b[39m\u001b[38;5;124myellow\u001b[39m\u001b[38;5;124m\"\u001b[39m\n\u001b[0;32m      9\u001b[0m \u001b[38;5;28mprint\u001b[39m(colors)\n\u001b[1;32m---> 11\u001b[0m colors[\u001b[38;5;241m3\u001b[39m] \u001b[38;5;241m=\u001b[39m \u001b[38;5;124m\"\u001b[39m\u001b[38;5;124mwhite\u001b[39m\u001b[38;5;124m\"\u001b[39m\n",
      "\u001b[1;31mIndexError\u001b[0m: list assignment index out of range"
     ]
    }
   ],
   "source": [
    "# how to update value at particular index postion\n",
    "print(colors)\n",
    "\n",
    "# index assignment\n",
    "colors[0] = \"white\"\n",
    "\n",
    "\n",
    "colors[-1] = \"yellow\"\n",
    "print(colors)\n",
    "\n",
    "colors[3] = \"white\"\n"
   ]
  },
  {
   "cell_type": "code",
   "execution_count": 23,
   "id": "b5d93a93-68e1-4561-9c62-f8b0e5067956",
   "metadata": {},
   "outputs": [
    {
     "name": "stdout",
     "output_type": "stream",
     "text": [
      "white\n",
      "white\n",
      "______\n",
      "white\n",
      "white\n"
     ]
    }
   ],
   "source": [
    "# how many ways we can access list?\n",
    "# +ve index\n",
    "# -ve index\n",
    "# for loop\n",
    "\n",
    "# +index\n",
    "print(colors[0])\n",
    "\n",
    "# -ve index\n",
    "print(colors[-2])\n",
    "\n",
    "\n",
    "print(\"______\")\n",
    "# for ,, is list iterable object\n",
    "for color in colors:\n",
    "    print(color)"
   ]
  },
  {
   "cell_type": "code",
   "execution_count": 41,
   "id": "61ca733e-24e3-471b-bd6b-63543299a89f",
   "metadata": {},
   "outputs": [
    {
     "name": "stdout",
     "output_type": "stream",
     "text": [
      "yellow\n",
      "green\n",
      "red\n"
     ]
    }
   ],
   "source": [
    "# can we access list by using while\n",
    "\n",
    "#           -3        -2         -1\n",
    "colors = ['red', 'green', 'yellow']\n",
    "#          0       1         2\n",
    "start = 1\n",
    "end = len(colors)  # 3\n",
    "\n",
    "while start <= end: # 4 <= 3\n",
    "    print(colors[-start])\n",
    "    start += 1"
   ]
  },
  {
   "cell_type": "code",
   "execution_count": null,
   "id": "00ade3b1-bf91-4632-82d9-d33fd3fa51e6",
   "metadata": {},
   "outputs": [],
   "source": [
    "# built-in functions\n",
    "# sorted()\n",
    "# reversed()\n",
    "# any()\n",
    "# all()\n",
    "# len()\n",
    "# help()"
   ]
  },
  {
   "cell_type": "code",
   "execution_count": 42,
   "id": "ccca5d81-ca28-453e-83f5-1d0335f80092",
   "metadata": {},
   "outputs": [
    {
     "name": "stdout",
     "output_type": "stream",
     "text": [
      "Help on list object:\n",
      "\n",
      "class list(object)\n",
      " |  list(iterable=(), /)\n",
      " |  \n",
      " |  Built-in mutable sequence.\n",
      " |  \n",
      " |  If no argument is given, the constructor creates a new empty list.\n",
      " |  The argument must be an iterable if specified.\n",
      " |  \n",
      " |  Methods defined here:\n",
      " |  \n",
      " |  __add__(self, value, /)\n",
      " |      Return self+value.\n",
      " |  \n",
      " |  __contains__(self, key, /)\n",
      " |      Return key in self.\n",
      " |  \n",
      " |  __delitem__(self, key, /)\n",
      " |      Delete self[key].\n",
      " |  \n",
      " |  __eq__(self, value, /)\n",
      " |      Return self==value.\n",
      " |  \n",
      " |  __ge__(self, value, /)\n",
      " |      Return self>=value.\n",
      " |  \n",
      " |  __getattribute__(self, name, /)\n",
      " |      Return getattr(self, name).\n",
      " |  \n",
      " |  __getitem__(...)\n",
      " |      x.__getitem__(y) <==> x[y]\n",
      " |  \n",
      " |  __gt__(self, value, /)\n",
      " |      Return self>value.\n",
      " |  \n",
      " |  __iadd__(self, value, /)\n",
      " |      Implement self+=value.\n",
      " |  \n",
      " |  __imul__(self, value, /)\n",
      " |      Implement self*=value.\n",
      " |  \n",
      " |  __init__(self, /, *args, **kwargs)\n",
      " |      Initialize self.  See help(type(self)) for accurate signature.\n",
      " |  \n",
      " |  __iter__(self, /)\n",
      " |      Implement iter(self).\n",
      " |  \n",
      " |  __le__(self, value, /)\n",
      " |      Return self<=value.\n",
      " |  \n",
      " |  __len__(self, /)\n",
      " |      Return len(self).\n",
      " |  \n",
      " |  __lt__(self, value, /)\n",
      " |      Return self<value.\n",
      " |  \n",
      " |  __mul__(self, value, /)\n",
      " |      Return self*value.\n",
      " |  \n",
      " |  __ne__(self, value, /)\n",
      " |      Return self!=value.\n",
      " |  \n",
      " |  __repr__(self, /)\n",
      " |      Return repr(self).\n",
      " |  \n",
      " |  __reversed__(self, /)\n",
      " |      Return a reverse iterator over the list.\n",
      " |  \n",
      " |  __rmul__(self, value, /)\n",
      " |      Return value*self.\n",
      " |  \n",
      " |  __setitem__(self, key, value, /)\n",
      " |      Set self[key] to value.\n",
      " |  \n",
      " |  __sizeof__(self, /)\n",
      " |      Return the size of the list in memory, in bytes.\n",
      " |  \n",
      " |  append(self, object, /)\n",
      " |      Append object to the end of the list.\n",
      " |  \n",
      " |  clear(self, /)\n",
      " |      Remove all items from list.\n",
      " |  \n",
      " |  copy(self, /)\n",
      " |      Return a shallow copy of the list.\n",
      " |  \n",
      " |  count(self, value, /)\n",
      " |      Return number of occurrences of value.\n",
      " |  \n",
      " |  extend(self, iterable, /)\n",
      " |      Extend list by appending elements from the iterable.\n",
      " |  \n",
      " |  index(self, value, start=0, stop=9223372036854775807, /)\n",
      " |      Return first index of value.\n",
      " |      \n",
      " |      Raises ValueError if the value is not present.\n",
      " |  \n",
      " |  insert(self, index, object, /)\n",
      " |      Insert object before index.\n",
      " |  \n",
      " |  pop(self, index=-1, /)\n",
      " |      Remove and return item at index (default last).\n",
      " |      \n",
      " |      Raises IndexError if list is empty or index is out of range.\n",
      " |  \n",
      " |  remove(self, value, /)\n",
      " |      Remove first occurrence of value.\n",
      " |      \n",
      " |      Raises ValueError if the value is not present.\n",
      " |  \n",
      " |  reverse(self, /)\n",
      " |      Reverse *IN PLACE*.\n",
      " |  \n",
      " |  sort(self, /, *, key=None, reverse=False)\n",
      " |      Sort the list in ascending order and return None.\n",
      " |      \n",
      " |      The sort is in-place (i.e. the list itself is modified) and stable (i.e. the\n",
      " |      order of two equal elements is maintained).\n",
      " |      \n",
      " |      If a key function is given, apply it once to each list item and sort them,\n",
      " |      ascending or descending, according to their function values.\n",
      " |      \n",
      " |      The reverse flag can be set to sort in descending order.\n",
      " |  \n",
      " |  ----------------------------------------------------------------------\n",
      " |  Class methods defined here:\n",
      " |  \n",
      " |  __class_getitem__(...) from builtins.type\n",
      " |      See PEP 585\n",
      " |  \n",
      " |  ----------------------------------------------------------------------\n",
      " |  Static methods defined here:\n",
      " |  \n",
      " |  __new__(*args, **kwargs) from builtins.type\n",
      " |      Create and return a new object.  See help(type) for accurate signature.\n",
      " |  \n",
      " |  ----------------------------------------------------------------------\n",
      " |  Data and other attributes defined here:\n",
      " |  \n",
      " |  __hash__ = None\n",
      "\n"
     ]
    }
   ],
   "source": [
    "# help() on list\n",
    "help([])"
   ]
  },
  {
   "cell_type": "code",
   "execution_count": 51,
   "id": "74649147-93ed-4fbe-91b8-2e5807e19181",
   "metadata": {},
   "outputs": [
    {
     "name": "stdout",
     "output_type": "stream",
     "text": [
      "asc id 2105147027712\n",
      "desc id 2105147019456\n",
      "original data id 2105146861184\n",
      "[1, 10, 7, 11, 4, 2, 3, 4]\n",
      "2105146861184\n",
      "[1, 2, 3, 4, 4, 7, 10, 11]\n",
      "2105146861184\n"
     ]
    }
   ],
   "source": [
    "# sorted () -- > sort the list,--> asc, desc\n",
    "# note --> it makes a new copy of list and sort it out, won't affect the original object\n",
    "\n",
    "data = [1, 10, 7, 11, 4, 2, 3,4 ]\n",
    "\n",
    "# asc\n",
    "sorted_data = sorted(data)\n",
    "\n",
    "# desc\n",
    "revers_data = sorted(data, reverse=True)\n",
    "\n",
    "# id()\n",
    "print(\"asc id\", id(sorted_data))\n",
    "print(\"desc id\", id(revers_data))\n",
    "print(\"original data id\", id(data))\n",
    "\n",
    "# lets do sorting in place\n",
    "print(data)\n",
    "print(id(data))\n",
    "data.sort()\n",
    "print(data)\n",
    "print(id(data))\n",
    "      \n",
    "\n",
    "\n",
    "\n"
   ]
  },
  {
   "cell_type": "code",
   "execution_count": 53,
   "id": "53783a26-5973-4b15-9b53-6f51224b4ddf",
   "metadata": {},
   "outputs": [
    {
     "name": "stdout",
     "output_type": "stream",
     "text": [
      "[4, 3, 2, 1]\n"
     ]
    }
   ],
   "source": [
    "# reversed()\n",
    "\n",
    "data = [1, 2, 3, 4]\n",
    "print(list(reversed(data)))"
   ]
  },
  {
   "cell_type": "code",
   "execution_count": 81,
   "id": "17a9018c-c5a1-4204-aa31-88b76a3da2a2",
   "metadata": {},
   "outputs": [
    {
     "name": "stdout",
     "output_type": "stream",
     "text": [
      "True\n",
      "True\n",
      "True\n",
      "False\n"
     ]
    }
   ],
   "source": [
    "# any()\n",
    "# all()\n",
    "# len()\n",
    "# help()\n",
    "\n",
    "\n",
    "data = [1, 2, 3, 4, 5]\n",
    "\n",
    "# # check all items are valid values or not,  Invalid ('', 0, None, False)\n",
    "# for i in data:\n",
    "#     if not i:\n",
    "#         print(\"contain invalid or empty values\")\n",
    "#         break\n",
    "\n",
    "# if all(data):  # returns True when all values are valid in list\n",
    "#     print(\"All are valid\")\n",
    "\n",
    "print(all([1,2, True]))  # all return true only when all are valid items\n",
    "print(any([1, 0, 0]))    # any return true only if atleast one item is valid, other wise return false\n",
    "\n",
    "data = []\n",
    "if data and all(data):\n",
    "    print(\"All are valid:\")\n",
    "\n",
    "# Note: all() return true when given data is empty list\n",
    "        #any() return false when given data is empty list \n",
    "print(all([]))\n",
    "print(any([]))"
   ]
  },
  {
   "cell_type": "code",
   "execution_count": 82,
   "id": "58498280-577c-437c-abeb-3a12c3a7e102",
   "metadata": {},
   "outputs": [
    {
     "ename": "TypeError",
     "evalue": "object of type 'int' has no len()",
     "output_type": "error",
     "traceback": [
      "\u001b[1;31m---------------------------------------------------------------------------\u001b[0m",
      "\u001b[1;31mTypeError\u001b[0m                                 Traceback (most recent call last)",
      "Input \u001b[1;32mIn [82]\u001b[0m, in \u001b[0;36m<cell line: 2>\u001b[1;34m()\u001b[0m\n\u001b[0;32m      1\u001b[0m \u001b[38;5;66;03m# len() --> finds the lenght of given data\u001b[39;00m\n\u001b[1;32m----> 2\u001b[0m \u001b[38;5;28;43mlen\u001b[39;49m\u001b[43m(\u001b[49m\u001b[38;5;241;43m1\u001b[39;49m\u001b[43m)\u001b[49m\n",
      "\u001b[1;31mTypeError\u001b[0m: object of type 'int' has no len()"
     ]
    }
   ],
   "source": [
    "# len() --> finds the lenght of given data\n",
    "len(1)"
   ]
  },
  {
   "cell_type": "code",
   "execution_count": 83,
   "id": "6a96eafe-00da-41d3-a9e3-516e32d9180f",
   "metadata": {},
   "outputs": [
    {
     "name": "stdout",
     "output_type": "stream",
     "text": [
      "Help on class str in module builtins:\n",
      "\n",
      "class str(object)\n",
      " |  str(object='') -> str\n",
      " |  str(bytes_or_buffer[, encoding[, errors]]) -> str\n",
      " |  \n",
      " |  Create a new string object from the given object. If encoding or\n",
      " |  errors is specified, then the object must expose a data buffer\n",
      " |  that will be decoded using the given encoding and error handler.\n",
      " |  Otherwise, returns the result of object.__str__() (if defined)\n",
      " |  or repr(object).\n",
      " |  encoding defaults to sys.getdefaultencoding().\n",
      " |  errors defaults to 'strict'.\n",
      " |  \n",
      " |  Methods defined here:\n",
      " |  \n",
      " |  __add__(self, value, /)\n",
      " |      Return self+value.\n",
      " |  \n",
      " |  __contains__(self, key, /)\n",
      " |      Return key in self.\n",
      " |  \n",
      " |  __eq__(self, value, /)\n",
      " |      Return self==value.\n",
      " |  \n",
      " |  __format__(self, format_spec, /)\n",
      " |      Return a formatted version of the string as described by format_spec.\n",
      " |  \n",
      " |  __ge__(self, value, /)\n",
      " |      Return self>=value.\n",
      " |  \n",
      " |  __getattribute__(self, name, /)\n",
      " |      Return getattr(self, name).\n",
      " |  \n",
      " |  __getitem__(self, key, /)\n",
      " |      Return self[key].\n",
      " |  \n",
      " |  __getnewargs__(...)\n",
      " |  \n",
      " |  __gt__(self, value, /)\n",
      " |      Return self>value.\n",
      " |  \n",
      " |  __hash__(self, /)\n",
      " |      Return hash(self).\n",
      " |  \n",
      " |  __iter__(self, /)\n",
      " |      Implement iter(self).\n",
      " |  \n",
      " |  __le__(self, value, /)\n",
      " |      Return self<=value.\n",
      " |  \n",
      " |  __len__(self, /)\n",
      " |      Return len(self).\n",
      " |  \n",
      " |  __lt__(self, value, /)\n",
      " |      Return self<value.\n",
      " |  \n",
      " |  __mod__(self, value, /)\n",
      " |      Return self%value.\n",
      " |  \n",
      " |  __mul__(self, value, /)\n",
      " |      Return self*value.\n",
      " |  \n",
      " |  __ne__(self, value, /)\n",
      " |      Return self!=value.\n",
      " |  \n",
      " |  __repr__(self, /)\n",
      " |      Return repr(self).\n",
      " |  \n",
      " |  __rmod__(self, value, /)\n",
      " |      Return value%self.\n",
      " |  \n",
      " |  __rmul__(self, value, /)\n",
      " |      Return value*self.\n",
      " |  \n",
      " |  __sizeof__(self, /)\n",
      " |      Return the size of the string in memory, in bytes.\n",
      " |  \n",
      " |  __str__(self, /)\n",
      " |      Return str(self).\n",
      " |  \n",
      " |  capitalize(self, /)\n",
      " |      Return a capitalized version of the string.\n",
      " |      \n",
      " |      More specifically, make the first character have upper case and the rest lower\n",
      " |      case.\n",
      " |  \n",
      " |  casefold(self, /)\n",
      " |      Return a version of the string suitable for caseless comparisons.\n",
      " |  \n",
      " |  center(self, width, fillchar=' ', /)\n",
      " |      Return a centered string of length width.\n",
      " |      \n",
      " |      Padding is done using the specified fill character (default is a space).\n",
      " |  \n",
      " |  count(...)\n",
      " |      S.count(sub[, start[, end]]) -> int\n",
      " |      \n",
      " |      Return the number of non-overlapping occurrences of substring sub in\n",
      " |      string S[start:end].  Optional arguments start and end are\n",
      " |      interpreted as in slice notation.\n",
      " |  \n",
      " |  encode(self, /, encoding='utf-8', errors='strict')\n",
      " |      Encode the string using the codec registered for encoding.\n",
      " |      \n",
      " |      encoding\n",
      " |        The encoding in which to encode the string.\n",
      " |      errors\n",
      " |        The error handling scheme to use for encoding errors.\n",
      " |        The default is 'strict' meaning that encoding errors raise a\n",
      " |        UnicodeEncodeError.  Other possible values are 'ignore', 'replace' and\n",
      " |        'xmlcharrefreplace' as well as any other name registered with\n",
      " |        codecs.register_error that can handle UnicodeEncodeErrors.\n",
      " |  \n",
      " |  endswith(...)\n",
      " |      S.endswith(suffix[, start[, end]]) -> bool\n",
      " |      \n",
      " |      Return True if S ends with the specified suffix, False otherwise.\n",
      " |      With optional start, test S beginning at that position.\n",
      " |      With optional end, stop comparing S at that position.\n",
      " |      suffix can also be a tuple of strings to try.\n",
      " |  \n",
      " |  expandtabs(self, /, tabsize=8)\n",
      " |      Return a copy where all tab characters are expanded using spaces.\n",
      " |      \n",
      " |      If tabsize is not given, a tab size of 8 characters is assumed.\n",
      " |  \n",
      " |  find(...)\n",
      " |      S.find(sub[, start[, end]]) -> int\n",
      " |      \n",
      " |      Return the lowest index in S where substring sub is found,\n",
      " |      such that sub is contained within S[start:end].  Optional\n",
      " |      arguments start and end are interpreted as in slice notation.\n",
      " |      \n",
      " |      Return -1 on failure.\n",
      " |  \n",
      " |  format(...)\n",
      " |      S.format(*args, **kwargs) -> str\n",
      " |      \n",
      " |      Return a formatted version of S, using substitutions from args and kwargs.\n",
      " |      The substitutions are identified by braces ('{' and '}').\n",
      " |  \n",
      " |  format_map(...)\n",
      " |      S.format_map(mapping) -> str\n",
      " |      \n",
      " |      Return a formatted version of S, using substitutions from mapping.\n",
      " |      The substitutions are identified by braces ('{' and '}').\n",
      " |  \n",
      " |  index(...)\n",
      " |      S.index(sub[, start[, end]]) -> int\n",
      " |      \n",
      " |      Return the lowest index in S where substring sub is found,\n",
      " |      such that sub is contained within S[start:end].  Optional\n",
      " |      arguments start and end are interpreted as in slice notation.\n",
      " |      \n",
      " |      Raises ValueError when the substring is not found.\n",
      " |  \n",
      " |  isalnum(self, /)\n",
      " |      Return True if the string is an alpha-numeric string, False otherwise.\n",
      " |      \n",
      " |      A string is alpha-numeric if all characters in the string are alpha-numeric and\n",
      " |      there is at least one character in the string.\n",
      " |  \n",
      " |  isalpha(self, /)\n",
      " |      Return True if the string is an alphabetic string, False otherwise.\n",
      " |      \n",
      " |      A string is alphabetic if all characters in the string are alphabetic and there\n",
      " |      is at least one character in the string.\n",
      " |  \n",
      " |  isascii(self, /)\n",
      " |      Return True if all characters in the string are ASCII, False otherwise.\n",
      " |      \n",
      " |      ASCII characters have code points in the range U+0000-U+007F.\n",
      " |      Empty string is ASCII too.\n",
      " |  \n",
      " |  isdecimal(self, /)\n",
      " |      Return True if the string is a decimal string, False otherwise.\n",
      " |      \n",
      " |      A string is a decimal string if all characters in the string are decimal and\n",
      " |      there is at least one character in the string.\n",
      " |  \n",
      " |  isdigit(self, /)\n",
      " |      Return True if the string is a digit string, False otherwise.\n",
      " |      \n",
      " |      A string is a digit string if all characters in the string are digits and there\n",
      " |      is at least one character in the string.\n",
      " |  \n",
      " |  isidentifier(self, /)\n",
      " |      Return True if the string is a valid Python identifier, False otherwise.\n",
      " |      \n",
      " |      Call keyword.iskeyword(s) to test whether string s is a reserved identifier,\n",
      " |      such as \"def\" or \"class\".\n",
      " |  \n",
      " |  islower(self, /)\n",
      " |      Return True if the string is a lowercase string, False otherwise.\n",
      " |      \n",
      " |      A string is lowercase if all cased characters in the string are lowercase and\n",
      " |      there is at least one cased character in the string.\n",
      " |  \n",
      " |  isnumeric(self, /)\n",
      " |      Return True if the string is a numeric string, False otherwise.\n",
      " |      \n",
      " |      A string is numeric if all characters in the string are numeric and there is at\n",
      " |      least one character in the string.\n",
      " |  \n",
      " |  isprintable(self, /)\n",
      " |      Return True if the string is printable, False otherwise.\n",
      " |      \n",
      " |      A string is printable if all of its characters are considered printable in\n",
      " |      repr() or if it is empty.\n",
      " |  \n",
      " |  isspace(self, /)\n",
      " |      Return True if the string is a whitespace string, False otherwise.\n",
      " |      \n",
      " |      A string is whitespace if all characters in the string are whitespace and there\n",
      " |      is at least one character in the string.\n",
      " |  \n",
      " |  istitle(self, /)\n",
      " |      Return True if the string is a title-cased string, False otherwise.\n",
      " |      \n",
      " |      In a title-cased string, upper- and title-case characters may only\n",
      " |      follow uncased characters and lowercase characters only cased ones.\n",
      " |  \n",
      " |  isupper(self, /)\n",
      " |      Return True if the string is an uppercase string, False otherwise.\n",
      " |      \n",
      " |      A string is uppercase if all cased characters in the string are uppercase and\n",
      " |      there is at least one cased character in the string.\n",
      " |  \n",
      " |  join(self, iterable, /)\n",
      " |      Concatenate any number of strings.\n",
      " |      \n",
      " |      The string whose method is called is inserted in between each given string.\n",
      " |      The result is returned as a new string.\n",
      " |      \n",
      " |      Example: '.'.join(['ab', 'pq', 'rs']) -> 'ab.pq.rs'\n",
      " |  \n",
      " |  ljust(self, width, fillchar=' ', /)\n",
      " |      Return a left-justified string of length width.\n",
      " |      \n",
      " |      Padding is done using the specified fill character (default is a space).\n",
      " |  \n",
      " |  lower(self, /)\n",
      " |      Return a copy of the string converted to lowercase.\n",
      " |  \n",
      " |  lstrip(self, chars=None, /)\n",
      " |      Return a copy of the string with leading whitespace removed.\n",
      " |      \n",
      " |      If chars is given and not None, remove characters in chars instead.\n",
      " |  \n",
      " |  partition(self, sep, /)\n",
      " |      Partition the string into three parts using the given separator.\n",
      " |      \n",
      " |      This will search for the separator in the string.  If the separator is found,\n",
      " |      returns a 3-tuple containing the part before the separator, the separator\n",
      " |      itself, and the part after it.\n",
      " |      \n",
      " |      If the separator is not found, returns a 3-tuple containing the original string\n",
      " |      and two empty strings.\n",
      " |  \n",
      " |  removeprefix(self, prefix, /)\n",
      " |      Return a str with the given prefix string removed if present.\n",
      " |      \n",
      " |      If the string starts with the prefix string, return string[len(prefix):].\n",
      " |      Otherwise, return a copy of the original string.\n",
      " |  \n",
      " |  removesuffix(self, suffix, /)\n",
      " |      Return a str with the given suffix string removed if present.\n",
      " |      \n",
      " |      If the string ends with the suffix string and that suffix is not empty,\n",
      " |      return string[:-len(suffix)]. Otherwise, return a copy of the original\n",
      " |      string.\n",
      " |  \n",
      " |  replace(self, old, new, count=-1, /)\n",
      " |      Return a copy with all occurrences of substring old replaced by new.\n",
      " |      \n",
      " |        count\n",
      " |          Maximum number of occurrences to replace.\n",
      " |          -1 (the default value) means replace all occurrences.\n",
      " |      \n",
      " |      If the optional argument count is given, only the first count occurrences are\n",
      " |      replaced.\n",
      " |  \n",
      " |  rfind(...)\n",
      " |      S.rfind(sub[, start[, end]]) -> int\n",
      " |      \n",
      " |      Return the highest index in S where substring sub is found,\n",
      " |      such that sub is contained within S[start:end].  Optional\n",
      " |      arguments start and end are interpreted as in slice notation.\n",
      " |      \n",
      " |      Return -1 on failure.\n",
      " |  \n",
      " |  rindex(...)\n",
      " |      S.rindex(sub[, start[, end]]) -> int\n",
      " |      \n",
      " |      Return the highest index in S where substring sub is found,\n",
      " |      such that sub is contained within S[start:end].  Optional\n",
      " |      arguments start and end are interpreted as in slice notation.\n",
      " |      \n",
      " |      Raises ValueError when the substring is not found.\n",
      " |  \n",
      " |  rjust(self, width, fillchar=' ', /)\n",
      " |      Return a right-justified string of length width.\n",
      " |      \n",
      " |      Padding is done using the specified fill character (default is a space).\n",
      " |  \n",
      " |  rpartition(self, sep, /)\n",
      " |      Partition the string into three parts using the given separator.\n",
      " |      \n",
      " |      This will search for the separator in the string, starting at the end. If\n",
      " |      the separator is found, returns a 3-tuple containing the part before the\n",
      " |      separator, the separator itself, and the part after it.\n",
      " |      \n",
      " |      If the separator is not found, returns a 3-tuple containing two empty strings\n",
      " |      and the original string.\n",
      " |  \n",
      " |  rsplit(self, /, sep=None, maxsplit=-1)\n",
      " |      Return a list of the words in the string, using sep as the delimiter string.\n",
      " |      \n",
      " |        sep\n",
      " |          The delimiter according which to split the string.\n",
      " |          None (the default value) means split according to any whitespace,\n",
      " |          and discard empty strings from the result.\n",
      " |        maxsplit\n",
      " |          Maximum number of splits to do.\n",
      " |          -1 (the default value) means no limit.\n",
      " |      \n",
      " |      Splits are done starting at the end of the string and working to the front.\n",
      " |  \n",
      " |  rstrip(self, chars=None, /)\n",
      " |      Return a copy of the string with trailing whitespace removed.\n",
      " |      \n",
      " |      If chars is given and not None, remove characters in chars instead.\n",
      " |  \n",
      " |  split(self, /, sep=None, maxsplit=-1)\n",
      " |      Return a list of the words in the string, using sep as the delimiter string.\n",
      " |      \n",
      " |      sep\n",
      " |        The delimiter according which to split the string.\n",
      " |        None (the default value) means split according to any whitespace,\n",
      " |        and discard empty strings from the result.\n",
      " |      maxsplit\n",
      " |        Maximum number of splits to do.\n",
      " |        -1 (the default value) means no limit.\n",
      " |  \n",
      " |  splitlines(self, /, keepends=False)\n",
      " |      Return a list of the lines in the string, breaking at line boundaries.\n",
      " |      \n",
      " |      Line breaks are not included in the resulting list unless keepends is given and\n",
      " |      true.\n",
      " |  \n",
      " |  startswith(...)\n",
      " |      S.startswith(prefix[, start[, end]]) -> bool\n",
      " |      \n",
      " |      Return True if S starts with the specified prefix, False otherwise.\n",
      " |      With optional start, test S beginning at that position.\n",
      " |      With optional end, stop comparing S at that position.\n",
      " |      prefix can also be a tuple of strings to try.\n",
      " |  \n",
      " |  strip(self, chars=None, /)\n",
      " |      Return a copy of the string with leading and trailing whitespace removed.\n",
      " |      \n",
      " |      If chars is given and not None, remove characters in chars instead.\n",
      " |  \n",
      " |  swapcase(self, /)\n",
      " |      Convert uppercase characters to lowercase and lowercase characters to uppercase.\n",
      " |  \n",
      " |  title(self, /)\n",
      " |      Return a version of the string where each word is titlecased.\n",
      " |      \n",
      " |      More specifically, words start with uppercased characters and all remaining\n",
      " |      cased characters have lower case.\n",
      " |  \n",
      " |  translate(self, table, /)\n",
      " |      Replace each character in the string using the given translation table.\n",
      " |      \n",
      " |        table\n",
      " |          Translation table, which must be a mapping of Unicode ordinals to\n",
      " |          Unicode ordinals, strings, or None.\n",
      " |      \n",
      " |      The table must implement lookup/indexing via __getitem__, for instance a\n",
      " |      dictionary or list.  If this operation raises LookupError, the character is\n",
      " |      left untouched.  Characters mapped to None are deleted.\n",
      " |  \n",
      " |  upper(self, /)\n",
      " |      Return a copy of the string converted to uppercase.\n",
      " |  \n",
      " |  zfill(self, width, /)\n",
      " |      Pad a numeric string with zeros on the left, to fill a field of the given width.\n",
      " |      \n",
      " |      The string is never truncated.\n",
      " |  \n",
      " |  ----------------------------------------------------------------------\n",
      " |  Static methods defined here:\n",
      " |  \n",
      " |  __new__(*args, **kwargs) from builtins.type\n",
      " |      Create and return a new object.  See help(type) for accurate signature.\n",
      " |  \n",
      " |  maketrans(...)\n",
      " |      Return a translation table usable for str.translate().\n",
      " |      \n",
      " |      If there is only one argument, it must be a dictionary mapping Unicode\n",
      " |      ordinals (integers) or characters to Unicode ordinals, strings or None.\n",
      " |      Character keys will be then converted to ordinals.\n",
      " |      If there are two arguments, they must be strings of equal length, and\n",
      " |      in the resulting dictionary, each character in x will be mapped to the\n",
      " |      character at the same position in y. If there is a third argument, it\n",
      " |      must be a string, whose characters will be mapped to None in the result.\n",
      "\n"
     ]
    }
   ],
   "source": [
    "help(\"\")\n"
   ]
  },
  {
   "cell_type": "code",
   "execution_count": null,
   "id": "f54b4124-4eaf-41c3-9071-2505e368e1c6",
   "metadata": {},
   "outputs": [],
   "source": [
    "# Home work?\n",
    "\n",
    "# write program to print the given list in forward and backword\n",
    "# direction\n",
    "company_names = ['wipro', 'capgemini', 'oracle', 'mindtree']\n",
    "\n",
    "# access elememenst with + ve , -ve, for loop, while loop\n",
    "\n",
    "\n",
    "# index assignemt\n",
    "# replace wipro with 'tcs'\n",
    "# replace oracle with 'infosys'\n",
    "\n",
    "# sort list and make sure original list won't changed.\n",
    "\n",
    "# reverse the all elements in list\n",
    "\n",
    "\n",
    "# check all items are valid or not\n",
    "\n",
    "# check atleast one item is valid or not\n",
    "\n",
    "# sort the list in place and make sure original affected\n",
    "\n",
    "\n"
   ]
  },
  {
   "cell_type": "code",
   "execution_count": null,
   "id": "6bb35a09-4004-4592-9499-405e84671fcc",
   "metadata": {},
   "outputs": [],
   "source": [
    "# complted operatios on list\n",
    "# 1) indexing\n",
    "# 2) assignment on list\n",
    "# 3) slicing\n",
    "# 4) iteration over list\n",
    "# 5) using Built-in functions on list\n",
    "\n",
    "\n",
    "\n",
    "# Today we are going to discuss about List object methods\n",
    "\n",
    "\n",
    "# for adding data list provide following methods\n",
    "\"\"\"\n",
    "list.appand(value) --> used to add value at end of list\n",
    "list.extent(iterable) --> used to append elements from iterable object\n",
    "list.insert(self, index, object, /) → Insert object before index.\n",
    "\n",
    "\"\"\"\n",
    "# for deleting data, list provide following methods\n",
    "\"\"\"\n",
    "list.pop(self, index=-1, /)  --> Remove and return item at index (default last). \n",
    "                                Raises IndexError if list is empty or index is out of range.\n",
    "list. remove(self, value, /) -->  Remove first occurrence of value. Raises ValueError if the value is not \n",
    "\n",
    "list.clear(self, /) --> Remove all items from list.\n",
    "\n",
    "\"\"\"\n",
    "\n"
   ]
  },
  {
   "cell_type": "code",
   "execution_count": 33,
   "id": "4d29e8fd-64ca-4a3d-897d-43d0a9b2d63f",
   "metadata": {},
   "outputs": [
    {
     "name": "stdout",
     "output_type": "stream",
     "text": [
      "['ramu', 'raghu']\n",
      "['ramu', 'raghu', 'Kiran']\n",
      "['ramu', 'raghu', 'Kiran', 'Sandhya']\n",
      "['ramu', 'raghu', 'Kiran', 'Sandhya', 'rajesh', 'avinash']\n"
     ]
    }
   ],
   "source": [
    "# example on list method append()\n",
    "\n",
    "names = ['ramu', 'raghu']   #list mutable object\n",
    "\n",
    "\n",
    "print(names)\n",
    "# add new name to names list\n",
    "names.append(\"Kiran\")\n",
    "\n",
    "print(names)\n",
    "\n",
    "\n",
    "# add another name again\n",
    "\n",
    "names.append('Sandhya')\n",
    "\n",
    "print(names)\n",
    "\n",
    "\n",
    "close_friends_list = ['rajesh', 'avinash']\n",
    "\n",
    "#for friend in close_friends_list:\n",
    "#    names.append(friend)\n",
    "    #print(friend)\n",
    "    \n",
    "\n",
    "#names.append(close_friends_list)\n",
    "# list provides method called extend()\n",
    "names.extend(close_friends_list)\n",
    "\n",
    "\n",
    "print(names)\n"
   ]
  },
  {
   "cell_type": "code",
   "execution_count": 34,
   "id": "0fd1cb22-486e-4d85-9a32-dd60b64880a2",
   "metadata": {},
   "outputs": [
    {
     "name": "stdout",
     "output_type": "stream",
     "text": [
      "['ramu', 'raghu', 'Kiran', 'Sandhya', 'rajesh', 'avinash']\n"
     ]
    }
   ],
   "source": [
    "print(names)"
   ]
  },
  {
   "cell_type": "code",
   "execution_count": 35,
   "id": "164219da-e041-4710-8cbd-debe86049f47",
   "metadata": {},
   "outputs": [
    {
     "name": "stdout",
     "output_type": "stream",
     "text": [
      "ramu\n",
      "Mounika\n",
      "['ramu', 'Mounika', 'raghu', 'Kiran', 'Sandhya', 'rajesh', 'avinash']\n"
     ]
    }
   ],
   "source": [
    "# insert() --> to insert value at particular index position\n",
    "print(names[0])\n",
    "\n",
    "names.insert(1, \"Mounika\") # it will insert the value and elemenets will adjusted\n",
    "\n",
    "print(names[1])\n",
    "\n",
    "print(names)\n",
    "\n",
    "#names[1] = \"JJJJ\" # it will overwrite the value"
   ]
  },
  {
   "cell_type": "code",
   "execution_count": 36,
   "id": "96339fb5-6724-4c79-a0b9-0f3d6d53c04c",
   "metadata": {},
   "outputs": [
    {
     "name": "stdout",
     "output_type": "stream",
     "text": [
      "['ramu', 'Mounika', 'raghu', 'Kiran', 'Sandhya', 'rajesh', 'avinash']\n"
     ]
    }
   ],
   "source": [
    "print(names)"
   ]
  },
  {
   "cell_type": "code",
   "execution_count": 37,
   "id": "5a66cf35-e894-499d-97ec-e33203151f07",
   "metadata": {},
   "outputs": [
    {
     "name": "stdout",
     "output_type": "stream",
     "text": [
      "['ramu', 'Mounika', 'raghu', 'Kiran', 'Sandhya', 'rajesh', 'avinash', 'HHh']\n"
     ]
    }
   ],
   "source": [
    "names.append(\"HHh\")\n",
    "print(names)"
   ]
  },
  {
   "cell_type": "code",
   "execution_count": 38,
   "id": "0da56cf0-bcb3-4e4b-a45d-92940ba8dd21",
   "metadata": {},
   "outputs": [
    {
     "name": "stdout",
     "output_type": "stream",
     "text": [
      "['ramu', 'Mounika', 'raghu', 'Kiran', 'Sandhya', 'rajesh', 'JJJJ', 'avinash', 'HHh']\n"
     ]
    }
   ],
   "source": [
    "names.insert(-2, \"JJJJ\")\n",
    "print(names)"
   ]
  },
  {
   "cell_type": "code",
   "execution_count": 39,
   "id": "f908e1e4-340d-4ac3-9b74-5b93f53fd97a",
   "metadata": {},
   "outputs": [
    {
     "name": "stdout",
     "output_type": "stream",
     "text": [
      "['ramu', 'Mounika', 'raghu', 'YYYY', 'Kiran', 'Sandhya', 'rajesh', 'JJJJ', 'avinash', 'HHh']\n"
     ]
    }
   ],
   "source": [
    "names.insert(3, \"YYYY\")\n",
    "print(names)"
   ]
  },
  {
   "cell_type": "code",
   "execution_count": null,
   "id": "3f1ad588-c690-4c67-af5c-53002934a96b",
   "metadata": {},
   "outputs": [],
   "source": [
    "# append() --> add item at end of the list\n",
    "# extend() -- extent elements from iterable object and store at end of the list\n",
    "# insert() --> use to insert value at specific location"
   ]
  },
  {
   "cell_type": "code",
   "execution_count": 48,
   "id": "78a90610-dff0-4722-8865-53650f138ab5",
   "metadata": {},
   "outputs": [
    {
     "name": "stdout",
     "output_type": "stream",
     "text": [
      "DELETE:  2\n",
      "[1, 3, 4]\n",
      "[3, 4]\n",
      "[3]\n"
     ]
    }
   ],
   "source": [
    "# creation done\n",
    "# how do we delete the data\n",
    "\"\"\"\n",
    "list.pop(index) --> delete item from list by providing index position, it returnd deleted object\n",
    "\n",
    "list.remove(value) --> detete item from list by providing item/value\n",
    "\n",
    "\"\"\"\n",
    "#     -4   -3   -2   -1\n",
    "data = [1, 2, 3, 4]\n",
    "#       0  1  2  3\n",
    "\n",
    "#print(data[0])\n",
    "\n",
    "# delete by index postion\n",
    "deletd_val = data.pop(1) # default index -1\n",
    "print(\"DELETE: \", deletd_val)\n",
    "\n",
    "print(data)\n",
    "\n",
    "\n",
    "# if provide index which not in list\n",
    "\n",
    "# raises exception\n",
    "data.pop(0)\n",
    "print(data)\n",
    "\n",
    "\n",
    "data.pop()\n",
    "\n",
    "print(data)\n",
    "\n",
    "# note: pop raises expecetion if index value is out of range\n"
   ]
  },
  {
   "cell_type": "code",
   "execution_count": 59,
   "id": "c65bd679-bcc6-40fe-a539-ae50585c4581",
   "metadata": {},
   "outputs": [
    {
     "name": "stdout",
     "output_type": "stream",
     "text": [
      "['orange', 'banana', 'kivi', 'banana', 'apple', 'banana']\n",
      "['orange', 'kivi', 'apple']\n",
      "[]\n"
     ]
    }
   ],
   "source": [
    "# list.remove()\n",
    "\n",
    "\n",
    "fruites = ['orange', 'banana', 'kivi', 'banana', 'apple', 'banana']\n",
    "\n",
    "# i want t delete banana\n",
    "#fruites.remove('banana')\n",
    "\n",
    "# note: remove also raises exception if given value not in list\n",
    "# remove() deletes the first matched item from list left to right\n",
    "\n",
    "print(fruites)\n",
    "\n",
    "\n",
    "for fruit in fruites:\n",
    "    if fruit == 'banana':\n",
    "        fruites.remove(\"banana\")\n",
    "\n",
    "print(fruites)\n",
    "\n",
    "\n",
    "# empty the list we can use clear()\n",
    "\n",
    "fruites.clear()\n",
    "print(fruites)"
   ]
  },
  {
   "cell_type": "code",
   "execution_count": 60,
   "id": "ad349826-7400-4e82-b615-1665f5b1b8ce",
   "metadata": {},
   "outputs": [
    {
     "name": "stdout",
     "output_type": "stream",
     "text": [
      "[]\n"
     ]
    }
   ],
   "source": [
    "# clear()\n",
    "data = [1, 2, 3, 4]\n",
    "data.clear()\n",
    "print(data) # []"
   ]
  },
  {
   "cell_type": "code",
   "execution_count": 62,
   "id": "157f7582-e2fe-480f-97f5-08f0dd411ada",
   "metadata": {},
   "outputs": [
    {
     "name": "stdout",
     "output_type": "stream",
     "text": [
      "[3, 4, 5]\n"
     ]
    },
    {
     "ename": "NameError",
     "evalue": "name 'data' is not defined",
     "output_type": "error",
     "traceback": [
      "\u001b[1;31m---------------------------------------------------------------------------\u001b[0m",
      "\u001b[1;31mNameError\u001b[0m                                 Traceback (most recent call last)",
      "Input \u001b[1;32mIn [62]\u001b[0m, in \u001b[0;36m<cell line: 9>\u001b[1;34m()\u001b[0m\n\u001b[0;32m      6\u001b[0m \u001b[38;5;28mprint\u001b[39m(data)\n\u001b[0;32m      8\u001b[0m \u001b[38;5;28;01mdel\u001b[39;00m data\n\u001b[1;32m----> 9\u001b[0m \u001b[38;5;28mprint\u001b[39m(\u001b[43mdata\u001b[49m)\n",
      "\u001b[1;31mNameError\u001b[0m: name 'data' is not defined"
     ]
    }
   ],
   "source": [
    "# how to delete value at index postion by using del keyword\n",
    "\n",
    "data = [3, 4, 5, 6]\n",
    "\n",
    "del data[3] # .pop()  \n",
    "print(data)\n",
    "\n",
    "del data # this operation will deletes variable from memory\n",
    "print(data)\n"
   ]
  },
  {
   "cell_type": "code",
   "execution_count": 63,
   "id": "815dc203-13f6-4d0f-92fd-20f3f798ce2b",
   "metadata": {},
   "outputs": [
    {
     "name": "stdout",
     "output_type": "stream",
     "text": [
      "['d', 'a', 'b', 'c']\n"
     ]
    }
   ],
   "source": [
    "# write a program to keep only single item if we have banana\n",
    "\n",
    "data = ['a', 'b', 'c', 'd', 'c']\n",
    "data = list(set(data))\n",
    "print(data)\n",
    "\n",
    "\n",
    "# list is ordered collection\n",
    "\n",
    "# set is an unorded collection \n",
    "\n",
    "\n",
    "\n"
   ]
  },
  {
   "cell_type": "code",
   "execution_count": 6,
   "id": "c0f7c522-7472-41bf-b6a2-4f7d532f1764",
   "metadata": {},
   "outputs": [
    {
     "name": "stdout",
     "output_type": "stream",
     "text": [
      "2\n",
      "3\n",
      "Index :  1\n",
      "Value:  tcs\n",
      "Index :  3\n",
      "Value:  tcs\n"
     ]
    }
   ],
   "source": [
    "# how to find the index postion of given value in list?\n",
    "\n",
    "\n",
    "data = [3, 4, 5, 6, 5, 6]\n",
    "\n",
    "# index position of 5 item/value\n",
    "print(data.index(5))\n",
    "print(data.index(6))\n",
    "#print(data.index(10))\n",
    "\n",
    "# note: index function always return first matched item index position.\n",
    "\n",
    "\n",
    "\n",
    "\n",
    "# write a prorgam to find all index postions of given value?\n",
    "\n",
    "data = ['wipro', 'tcs', 'infosys', 'tcs']\n",
    "\n",
    "filter_val = 'tcs'\n",
    "\n",
    "for index, value in enumerate(data):   # [(0, 'wipro'), (1, 'tcs'), (2, 'infosys'), (3, 'tcs')]\n",
    "    if value == filter_val:\n",
    "        print(\"Index : \",  index)\n",
    "        print(\"Value: \", value)\n",
    "\n"
   ]
  },
  {
   "cell_type": "code",
   "execution_count": 8,
   "id": "42a54773-7ae6-401b-95b8-a8c8b6d16480",
   "metadata": {},
   "outputs": [
    {
     "data": {
      "text/plain": [
       "1"
      ]
     },
     "execution_count": 8,
     "metadata": {},
     "output_type": "execute_result"
    }
   ],
   "source": [
    "data.count('tcs')\n",
    "data.count('wipro')\n",
    "# note: count is function used to find the occurences of given value in list"
   ]
  },
  {
   "cell_type": "code",
   "execution_count": 13,
   "id": "c1b40043-5ea6-4e41-8a13-620ea2bb871c",
   "metadata": {},
   "outputs": [
    {
     "name": "stdout",
     "output_type": "stream",
     "text": [
      "maruthi -->  1\n",
      "audi -->  2\n",
      "honda -->  2\n",
      "audi -->  2\n",
      "mahindra -->  1\n",
      "honda -->  2\n"
     ]
    }
   ],
   "source": [
    "# write a program to print count of all items in list\n",
    "\n",
    "cars = ['maruthi', 'audi', 'honda', 'audi', 'mahindra', 'honda']\n",
    "\n",
    "# maruthi --> 1\n",
    "# audi --> 2\n",
    "# honda --> 2\n",
    "# mahindra --> 1\n",
    "\n",
    "for car in cars:\n",
    "    print(car, \"--> \", cars.count(car))"
   ]
  },
  {
   "cell_type": "code",
   "execution_count": 14,
   "id": "616f3c82-81ac-4250-ba45-86abd493fd32",
   "metadata": {},
   "outputs": [],
   "source": [
    "cars.reverse()  # in place reverse, original will be modified\n",
    "# reversed() # makes shallow copy and reverse the list, source won't modified"
   ]
  },
  {
   "cell_type": "code",
   "execution_count": 15,
   "id": "5fa25f40-84b4-4319-b40c-aedec462bb24",
   "metadata": {},
   "outputs": [
    {
     "data": {
      "text/plain": [
       "['honda', 'mahindra', 'audi', 'honda', 'audi', 'maruthi']"
      ]
     },
     "execution_count": 15,
     "metadata": {},
     "output_type": "execute_result"
    }
   ],
   "source": [
    "cars"
   ]
  },
  {
   "cell_type": "code",
   "execution_count": 16,
   "id": "229159ee-1624-4bbd-beb1-63817dc4816e",
   "metadata": {},
   "outputs": [
    {
     "data": {
      "text/plain": [
       "['audi', 'audi', 'honda', 'honda', 'mahindra', 'maruthi']"
      ]
     },
     "execution_count": 16,
     "metadata": {},
     "output_type": "execute_result"
    }
   ],
   "source": [
    "cars.sort() # in place\n",
    "# sorted() --> makes shallow copy\n",
    "cars"
   ]
  },
  {
   "cell_type": "code",
   "execution_count": 18,
   "id": "577be169-74a6-4613-b015-40f9a9ecade7",
   "metadata": {},
   "outputs": [
    {
     "name": "stdout",
     "output_type": "stream",
     "text": [
      "2257682640704\n",
      "2257682640704\n",
      "[1, 2, 3, 4, 20]\n",
      "[1, 2, 3, 4, 20]\n"
     ]
    }
   ],
   "source": [
    "\n",
    "data = [1, 2, 3, 4]\n",
    "\n",
    "data1 = data  # reference copying\n",
    "\n",
    "print(id(data))\n",
    "print(id(data1))\n",
    "\n",
    "# update data in data1\n",
    "data1.append(20)\n",
    "print(data)\n",
    "print(data1)"
   ]
  },
  {
   "cell_type": "code",
   "execution_count": 20,
   "id": "fdcabbf7-22a2-407a-b52f-8c094ecc4b5c",
   "metadata": {},
   "outputs": [
    {
     "name": "stdout",
     "output_type": "stream",
     "text": [
      "Help on built-in function copy:\n",
      "\n",
      "copy() method of builtins.list instance\n",
      "    Return a shallow copy of the list.\n",
      "\n"
     ]
    }
   ],
   "source": [
    "# copy() --> Return a shallow copy of the list.\n",
    "help([].copy)"
   ]
  },
  {
   "cell_type": "code",
   "execution_count": 24,
   "id": "b7eeef0b-eb64-4912-bb7a-d2ffc538647c",
   "metadata": {},
   "outputs": [
    {
     "name": "stdout",
     "output_type": "stream",
     "text": [
      "2257683474048\n",
      "2257683466048\n"
     ]
    }
   ],
   "source": [
    "data = [2, 3, 4, 5, 6]\n",
    "data2 = data.copy()\n",
    "\n",
    "# lets prove it both are in different locations in memory\n",
    "print(id(data))\n",
    "print(id(data2))"
   ]
  },
  {
   "cell_type": "code",
   "execution_count": 28,
   "id": "a800a204-6e24-4dfb-8802-1e8a646409e9",
   "metadata": {},
   "outputs": [
    {
     "name": "stdout",
     "output_type": "stream",
     "text": [
      "[2, 3, 4, 5, 6, 555]\n",
      "[2, 3, 4, 5, 6, 40]\n"
     ]
    }
   ],
   "source": [
    "data = [2, 3, 4, 5, 6]\n",
    "data2 = data.copy()\n",
    "data2.append(40)\n",
    "data.append(555)\n",
    "print(data)\n",
    "print(data2)"
   ]
  },
  {
   "cell_type": "code",
   "execution_count": null,
   "id": "f06b9dc2-cf81-4d04-829c-5262478ef2a4",
   "metadata": {},
   "outputs": [],
   "source": [
    "# how many ways we can do shallow copy?\n",
    "# 1) list.copy()\n",
    "# 2) slicing list[:]\n",
    "# 3) by using copy module"
   ]
  },
  {
   "cell_type": "code",
   "execution_count": 29,
   "id": "cd763617-d9d5-4067-b802-4711dd494182",
   "metadata": {},
   "outputs": [
    {
     "name": "stdout",
     "output_type": "stream",
     "text": [
      "green\n"
     ]
    }
   ],
   "source": [
    "# indexing --> give single value\n",
    "\n",
    "# slicing --> is process of getting new sequence by providing start and end range indexes\n",
    "\n",
    "\n",
    "\n",
    "data = ['green', 'red', 'blue']\n",
    "\n",
    "# index\n",
    "print(data[0])\n"
   ]
  },
  {
   "cell_type": "code",
   "execution_count": 31,
   "id": "fed8f0b7-5df4-478c-8afc-ae87fa05f3a1",
   "metadata": {},
   "outputs": [
    {
     "name": "stdout",
     "output_type": "stream",
     "text": [
      "['red', 'blue']\n",
      "['green', 'red', 'blue']\n"
     ]
    }
   ],
   "source": [
    "# create new sequecne by copiying only red and blue color from main sequence data\n",
    "\n",
    "\"\"\"\n",
    "slicing:\n",
    "\n",
    "syntax:\n",
    "-------\n",
    "\n",
    "data[start_index: end_index: step]\n",
    "\n",
    "# all are optional\n",
    "\n",
    "\n",
    "\"\"\"\n",
    "\n",
    "new_obj = data[1:]\n",
    "print(new_obj)\n",
    "\n",
    "\n",
    "print(data)\n",
    "\n"
   ]
  },
  {
   "cell_type": "code",
   "execution_count": 34,
   "id": "388cd101-5cbd-4288-9b50-aec29b55ea4c",
   "metadata": {},
   "outputs": [
    {
     "name": "stdout",
     "output_type": "stream",
     "text": [
      "['green', 'red']\n"
     ]
    }
   ],
   "source": [
    "# slice a list to include only green and red\n",
    "\n",
    "new_obj = data[0:1]\n",
    "print(new_obj)\n"
   ]
  },
  {
   "cell_type": "code",
   "execution_count": 38,
   "id": "dfd5d1a0-4b41-45bb-b7b9-b7a2c177270e",
   "metadata": {},
   "outputs": [
    {
     "name": "stdout",
     "output_type": "stream",
     "text": [
      "[3, 4, 5, 6]\n",
      "[7, 8, 9]\n",
      "[7, 8, 9, 10]\n"
     ]
    }
   ],
   "source": [
    "data = [3, 4, 5, 6, 7, 8, 9, 10]\n",
    "\n",
    "# [3, 4, 5, 6]\n",
    "# start: 0\n",
    "# end: 4\n",
    "\n",
    "print(data[0: 4])\n",
    "\n",
    "print(data[4:7])\n",
    "\n",
    "\n",
    "print(data[4:100])"
   ]
  },
  {
   "cell_type": "code",
   "execution_count": 46,
   "id": "f02e757a-2f51-4bf5-8e64-32cd6617097b",
   "metadata": {},
   "outputs": [
    {
     "data": {
      "text/plain": [
       "[6, 7, 8, 9]"
      ]
     },
     "execution_count": 46,
     "metadata": {},
     "output_type": "execute_result"
    }
   ],
   "source": [
    "# lets deal -ve index in slicing\n",
    "data[-5:-1]"
   ]
  },
  {
   "cell_type": "code",
   "execution_count": null,
   "id": "97cebd99-77f9-42c4-9f10-1d0285117aaf",
   "metadata": {},
   "outputs": [],
   "source": [
    "# Note : slice operation always mekes a new copy in object"
   ]
  },
  {
   "cell_type": "code",
   "execution_count": 50,
   "id": "d5e8bf90-1248-4d1a-b420-879d26e0d9ab",
   "metadata": {},
   "outputs": [
    {
     "name": "stdout",
     "output_type": "stream",
     "text": [
      "[3, 5, 7]\n"
     ]
    },
    {
     "data": {
      "text/plain": [
       "[5, 7]"
      ]
     },
     "execution_count": 50,
     "metadata": {},
     "output_type": "execute_result"
    }
   ],
   "source": [
    "# step in slice\n",
    "data = [3, 4, 5, 6, 7, 8]\n",
    "print(data[::2])\n",
    "\n",
    "data[2::2]"
   ]
  },
  {
   "cell_type": "code",
   "execution_count": 52,
   "id": "b5f747b7-f3ac-4768-a319-e97c3b9d22bc",
   "metadata": {},
   "outputs": [
    {
     "name": "stdout",
     "output_type": "stream",
     "text": [
      "[1, 4, 7]\n"
     ]
    }
   ],
   "source": [
    "# write a program to print items like below order\n",
    "\n",
    "data = [1 , 2, 3, 4, 5, 6, 7, 8]\n",
    "\n",
    "#output = [1, 4, 7]\n",
    "print(data[0::3])"
   ]
  },
  {
   "cell_type": "code",
   "execution_count": 55,
   "id": "9b29954f-d2cd-4e09-a2a3-21cf7b8a30b7",
   "metadata": {},
   "outputs": [
    {
     "name": "stdout",
     "output_type": "stream",
     "text": [
      "[2, 4, 6, 8]\n"
     ]
    }
   ],
   "source": [
    "# write a program to get all even number from list with slicing\n",
    "\n",
    "data = [1, 2, 3, 4, 5, 6, 7, 8, 9]\n",
    "print(data[1::2])\n"
   ]
  },
  {
   "cell_type": "code",
   "execution_count": 13,
   "id": "9fcc034e-a9b1-4f40-9677-874d988d8c2c",
   "metadata": {},
   "outputs": [
    {
     "name": "stdout",
     "output_type": "stream",
     "text": [
      "Int:  1\n",
      "Int:  2\n",
      "Int:  3\n",
      "str:  Badra\n",
      "str:  kiran\n",
      "str:  sandhya\n",
      "str:  anc\n",
      "Bool True\n",
      "floot:  44.5\n",
      "Dict:  {'a': 10}\n",
      "list:  [1, 2, 3]\n",
      "tuple:  (1, 2, 3)\n",
      "set:  {1, 2, 3}\n"
     ]
    }
   ],
   "source": [
    "# write a program to print how many strings and how many ints in list?\n",
    "\n",
    "data = [1, 2, 3, 'Badra', 'kiran', 'sandhya', 'anc', True, 44.5, {'a': 10}, [1,2,3], (1,2,3), {1, 2, 3}]\n",
    "\n",
    "for val in data:\n",
    "    \n",
    "    if isinstance(val, bool):\n",
    "        print(\"Bool\", val)\n",
    "    elif isinstance(val, int):\n",
    "        print(\"Int: \", val)\n",
    "    elif isinstance(val, str):\n",
    "        print(\"str: \", val)\n",
    "    elif isinstance(val, float):\n",
    "        print(\"floot: \", val)\n",
    "    elif isinstance(val, dict):\n",
    "        print(\"Dict: \", val)\n",
    "    elif isinstance(val, list):\n",
    "        print(\"list: \", val)\n",
    "    elif isinstance(val, tuple):\n",
    "        print(\"tuple: \", val)\n",
    "    elif isinstance(val, set):\n",
    "        print(\"set: \", val)\n",
    "    \n",
    "    "
   ]
  },
  {
   "cell_type": "code",
   "execution_count": 5,
   "id": "f247b960-351e-42cf-813d-222537f88fbd",
   "metadata": {},
   "outputs": [
    {
     "name": "stdout",
     "output_type": "stream",
     "text": [
      "True\n"
     ]
    }
   ],
   "source": [
    "print(isinstance('badra', str))"
   ]
  },
  {
   "cell_type": "code",
   "execution_count": 31,
   "id": "00ae000d-80f4-4239-91ca-110dc8e14184",
   "metadata": {},
   "outputs": [
    {
     "name": "stdout",
     "output_type": "stream",
     "text": [
      "Skipping item: ancd123\n",
      "Skipping item: bbbb\n",
      "SUM of list:  190\n"
     ]
    }
   ],
   "source": [
    "# write a program to sum all numbers from list?\n",
    "\n",
    "data = ['ancd123', 1, 2, 3, [4, 5, 6], [7, 8, 10], 10, 11, (22, 32), '33', '3', 'bbbb', 33]\n",
    "\n",
    "\n",
    "output = 0\n",
    "for item in data:\n",
    "    if isinstance(item, int):\n",
    "        output += item\n",
    "    elif isinstance(item, (list, tuple)):\n",
    "        for i in item:\n",
    "            output += i\n",
    "    elif isinstance(item, str):\n",
    "        if item.isdigit():\n",
    "            output += int(item)\n",
    "        else:\n",
    "            print(\"Skipping item:\", item)\n",
    "\n",
    "print('SUM of list: ', output)\n",
    "    \n",
    "    \n",
    "\n",
    "\n"
   ]
  },
  {
   "cell_type": "code",
   "execution_count": 17,
   "id": "f5db709c-cb47-4662-87e1-15affa349c54",
   "metadata": {},
   "outputs": [
    {
     "name": "stdout",
     "output_type": "stream",
     "text": [
      "True\n"
     ]
    }
   ],
   "source": [
    "print(isinstance((1,), (list, tuple)))"
   ]
  },
  {
   "cell_type": "code",
   "execution_count": 27,
   "id": "06cb26c8-b5c4-485e-8176-941d71c282fa",
   "metadata": {},
   "outputs": [
    {
     "name": "stdout",
     "output_type": "stream",
     "text": [
      "False\n"
     ]
    }
   ],
   "source": [
    "print(\"w123\".isdigit())"
   ]
  },
  {
   "cell_type": "code",
   "execution_count": 32,
   "id": "431aaf73-c00c-4a89-bb57-cdb219a661ef",
   "metadata": {},
   "outputs": [
    {
     "data": {
      "text/plain": [
       "123"
      ]
     },
     "execution_count": 32,
     "metadata": {},
     "output_type": "execute_result"
    }
   ],
   "source": [
    "int('123')"
   ]
  },
  {
   "cell_type": "code",
   "execution_count": 35,
   "id": "89a3910c-e530-4cfa-ad47-1e34c5259740",
   "metadata": {},
   "outputs": [
    {
     "data": {
      "text/plain": [
       "1"
      ]
     },
     "execution_count": 35,
     "metadata": {},
     "output_type": "execute_result"
    }
   ],
   "source": [
    "int(\"1\")"
   ]
  },
  {
   "cell_type": "code",
   "execution_count": 36,
   "id": "80dbcb2b-dcd5-4e61-8708-55d497ed8a9b",
   "metadata": {},
   "outputs": [],
   "source": [
    "# Note: isinstance(val, className) --> it returns True when val is object of given class else return False"
   ]
  },
  {
   "cell_type": "code",
   "execution_count": null,
   "id": "bfff9271-8e56-459d-a259-21ff9d2aa64f",
   "metadata": {},
   "outputs": [],
   "source": []
  },
  {
   "cell_type": "code",
   "execution_count": 37,
   "id": "5e34486b-89f2-4691-8df2-cb14db347e8c",
   "metadata": {},
   "outputs": [],
   "source": [
    "# Home Work:"
   ]
  },
  {
   "cell_type": "code",
   "execution_count": null,
   "id": "2ab17c09-c647-453d-a63c-3ec35b9bf71f",
   "metadata": {},
   "outputs": [],
   "source": [
    "# Write a prgram to multiply every item in list by  3\n",
    "\n",
    "data = [1, 2, 3, [1, 2, [3, 4]], [3, 4], (1, 2, (3, 4)]"
   ]
  },
  {
   "cell_type": "code",
   "execution_count": null,
   "id": "b6787c70-a74e-4519-a9e2-0a9b072c73df",
   "metadata": {},
   "outputs": [],
   "source": []
  }
 ],
 "metadata": {
  "kernelspec": {
   "display_name": "Python 3 (ipykernel)",
   "language": "python",
   "name": "python3"
  },
  "language_info": {
   "codemirror_mode": {
    "name": "ipython",
    "version": 3
   },
   "file_extension": ".py",
   "mimetype": "text/x-python",
   "name": "python",
   "nbconvert_exporter": "python",
   "pygments_lexer": "ipython3",
   "version": "3.10.4"
  }
 },
 "nbformat": 4,
 "nbformat_minor": 5
}
