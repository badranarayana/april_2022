{
 "cells": [
  {
   "cell_type": "code",
   "execution_count": null,
   "id": "0dd974d1-8e79-4245-86a8-5959f776f427",
   "metadata": {},
   "outputs": [],
   "source": [
    "# set\n",
    "\"\"\"\n",
    "\n",
    "\n",
    "syntax:\n",
    "-------\n",
    "\n",
    "data = {1} # set\n",
    "\n",
    "\n",
    "\"\"\"\n"
   ]
  },
  {
   "cell_type": "code",
   "execution_count": 1,
   "id": "be21469a-f7ee-4abe-bad6-766a421eba13",
   "metadata": {},
   "outputs": [
    {
     "data": {
      "text/plain": [
       "dict"
      ]
     },
     "execution_count": 1,
     "metadata": {},
     "output_type": "execute_result"
    }
   ],
   "source": [
    "data = {}\n",
    "type(data)"
   ]
  },
  {
   "cell_type": "code",
   "execution_count": 2,
   "id": "6c1bf704-6f59-4d9b-90c0-bee3202daa23",
   "metadata": {},
   "outputs": [
    {
     "name": "stdout",
     "output_type": "stream",
     "text": [
      "<class 'set'>\n"
     ]
    }
   ],
   "source": [
    "data = {1}\n",
    "print(type(data))"
   ]
  },
  {
   "cell_type": "code",
   "execution_count": 3,
   "id": "e81ff144-749a-4e2d-afd6-baef0733f5fe",
   "metadata": {},
   "outputs": [
    {
     "name": "stdout",
     "output_type": "stream",
     "text": [
      "{1, 2, 3, 4, 5, 6}\n"
     ]
    }
   ],
   "source": [
    "# lets define set with some values\n",
    "\n",
    "nums = {1, 2, 3, 3, 3, 3, 4, 5, 6}\n",
    "\n",
    "print(nums)\n"
   ]
  },
  {
   "cell_type": "code",
   "execution_count": 7,
   "id": "b47e4ce3-3046-4b98-af67-2b2050347120",
   "metadata": {},
   "outputs": [
    {
     "name": "stdout",
     "output_type": "stream",
     "text": [
      "{1, 2, 3, 4, 5, 6, 7}\n",
      "{3, 4, 7}\n"
     ]
    }
   ],
   "source": [
    "# set operations\n",
    "#union and intersection\n",
    "\n",
    "set1 = {1, 7, 3, 2, 3, 4}\n",
    "\n",
    "set2 = {3, 4, 5, 6, 7, 7}\n",
    "print(set1.union(set2))\n",
    "\n",
    "\n",
    "# intersection\n",
    "out = set1.intersection(set2)\n",
    "print(out)\n",
    "\n",
    "\n"
   ]
  },
  {
   "cell_type": "code",
   "execution_count": 8,
   "id": "9162f749-d0e9-4d6b-8d3b-c9e4688bfa88",
   "metadata": {},
   "outputs": [
    {
     "name": "stdout",
     "output_type": "stream",
     "text": [
      "{'swami'}\n"
     ]
    }
   ],
   "source": [
    "\n",
    "# write a program to find the comman friends from below data\n",
    "\n",
    "my_friends = {'badra', 'raghu', 'swami'}\n",
    "\n",
    "my_friend_friends = {'vamsi', 'kiran', 'mahesh', 'swami'}\n",
    "\n",
    "# common friends\n",
    "common_friends = my_friends.intersection(my_friend_friends)\n",
    "print(common_friends)\n",
    "\n"
   ]
  },
  {
   "cell_type": "code",
   "execution_count": 11,
   "id": "0a116241-fbc5-4bff-9d57-2719ae3a0b02",
   "metadata": {},
   "outputs": [
    {
     "name": "stdout",
     "output_type": "stream",
     "text": [
      "{1, 2, 3, 4, 5, 6}\n",
      "{3, 4, 5, 6, 7, 8}\n",
      "[1, 2, 3, 4, 5, 6, 7, 8]\n"
     ]
    }
   ],
   "source": [
    "# write a program to merge two lists into single list and remove duplicates\n",
    "\n",
    "data = [1, 2, 3, 4, 5, 5, 5, 6]\n",
    "data2 = [3, 4, 5, 6, 6, 7, 8]\n",
    "\n",
    "# output = [1, 2, 4, 5,6, 7,8]\n",
    "\n",
    "# step 1 - convert list into set\n",
    "\n",
    "set1 = set(data)\n",
    "\n",
    "set2 = set(data2)\n",
    "print(set1)\n",
    "print(set2)\n",
    "\n",
    "out = set1.union(set2)\n",
    "\n",
    "# converting set to list\n",
    "print(list(out))"
   ]
  },
  {
   "cell_type": "code",
   "execution_count": 13,
   "id": "e4f18d78-cc83-4e9a-b163-99cd1af49cff",
   "metadata": {},
   "outputs": [
    {
     "name": "stdout",
     "output_type": "stream",
     "text": [
      "{(1, 2, 3, 4), 1, 2}\n"
     ]
    }
   ],
   "source": [
    "# example on handling mutable objects in set\n",
    "data = {1, 2, (1, 2, 3, 4)}\n",
    "print(data)"
   ]
  },
  {
   "cell_type": "code",
   "execution_count": 14,
   "id": "09ebf669-6687-4c31-b7c2-e6923860b179",
   "metadata": {},
   "outputs": [
    {
     "ename": "TypeError",
     "evalue": "unhashable type: 'list'",
     "output_type": "error",
     "traceback": [
      "\u001b[1;31m---------------------------------------------------------------------------\u001b[0m",
      "\u001b[1;31mTypeError\u001b[0m                                 Traceback (most recent call last)",
      "Input \u001b[1;32mIn [14]\u001b[0m, in \u001b[0;36m<cell line: 1>\u001b[1;34m()\u001b[0m\n\u001b[1;32m----> 1\u001b[0m my_data \u001b[38;5;241m=\u001b[39m {[\u001b[38;5;241m1\u001b[39m,\u001b[38;5;241m2\u001b[39m,\u001b[38;5;241m34\u001b[39m], [\u001b[38;5;241m3\u001b[39m, \u001b[38;5;241m4\u001b[39m, \u001b[38;5;241m5\u001b[39m]}\n\u001b[0;32m      2\u001b[0m \u001b[38;5;28mprint\u001b[39m(my_data)\n",
      "\u001b[1;31mTypeError\u001b[0m: unhashable type: 'list'"
     ]
    }
   ],
   "source": [
    "my_data = {[1,2,34], [3, 4, 5]}\n",
    "print(my_data)"
   ]
  },
  {
   "cell_type": "code",
   "execution_count": 15,
   "id": "cdab7222-bafc-43ce-bc23-4170620c0771",
   "metadata": {},
   "outputs": [
    {
     "ename": "TypeError",
     "evalue": "unhashable type: 'dict'",
     "output_type": "error",
     "traceback": [
      "\u001b[1;31m---------------------------------------------------------------------------\u001b[0m",
      "\u001b[1;31mTypeError\u001b[0m                                 Traceback (most recent call last)",
      "Input \u001b[1;32mIn [15]\u001b[0m, in \u001b[0;36m<cell line: 1>\u001b[1;34m()\u001b[0m\n\u001b[1;32m----> 1\u001b[0m my_data \u001b[38;5;241m=\u001b[39m { {\u001b[38;5;124m'\u001b[39m\u001b[38;5;124ma\u001b[39m\u001b[38;5;124m'\u001b[39m: \u001b[38;5;241m2\u001b[39m, \u001b[38;5;124m'\u001b[39m\u001b[38;5;124mb\u001b[39m\u001b[38;5;124m'\u001b[39m: \u001b[38;5;241m3\u001b[39m}, {\u001b[38;5;124m'\u001b[39m\u001b[38;5;124mc\u001b[39m\u001b[38;5;124m'\u001b[39m: \u001b[38;5;241m20\u001b[39m} }\n",
      "\u001b[1;31mTypeError\u001b[0m: unhashable type: 'dict'"
     ]
    }
   ],
   "source": [
    "my_data = { {'a': 2, 'b': 3}, {'c': 20} } "
   ]
  },
  {
   "cell_type": "code",
   "execution_count": 19,
   "id": "f9a98e62-6b06-4592-b8c6-20cab4181c0b",
   "metadata": {},
   "outputs": [
    {
     "name": "stdout",
     "output_type": "stream",
     "text": [
      "{3, 4}\n",
      "{3, 4, 5, 6}\n"
     ]
    }
   ],
   "source": [
    "# example of add and update of set\n",
    "my_set = set()\n",
    "\n",
    "# add single value\n",
    "my_set.add(3)\n",
    "my_set.add(4)\n",
    "print(my_set)\n",
    "\n",
    "my_new_data = [3, 4, 4, 5, 5, 6]\n",
    "\n",
    "my_set.update(my_new_data)\n",
    "print(my_set)"
   ]
  },
  {
   "cell_type": "code",
   "execution_count": 28,
   "id": "743e6851-6b8c-4562-8047-e57e9989e966",
   "metadata": {},
   "outputs": [
    {
     "name": "stdout",
     "output_type": "stream",
     "text": [
      "None\n",
      "{1, 3, 4, 5}\n"
     ]
    },
    {
     "ename": "KeyError",
     "evalue": "10",
     "output_type": "error",
     "traceback": [
      "\u001b[1;31m---------------------------------------------------------------------------\u001b[0m",
      "\u001b[1;31mKeyError\u001b[0m                                  Traceback (most recent call last)",
      "Input \u001b[1;32mIn [28]\u001b[0m, in \u001b[0;36m<cell line: 13>\u001b[1;34m()\u001b[0m\n\u001b[0;32m      7\u001b[0m \u001b[38;5;28mprint\u001b[39m(data)\n\u001b[0;32m      9\u001b[0m \u001b[38;5;66;03m# set.remove()\u001b[39;00m\n\u001b[0;32m     10\u001b[0m \u001b[38;5;66;03m#Remove an element from a set; it must be a member.\u001b[39;00m\n\u001b[0;32m     11\u001b[0m \u001b[38;5;66;03m#If the element is not a member, raise a KeyError.\u001b[39;00m\n\u001b[1;32m---> 13\u001b[0m \u001b[38;5;28mprint\u001b[39m(\u001b[43mdata\u001b[49m\u001b[38;5;241;43m.\u001b[39;49m\u001b[43mremove\u001b[49m\u001b[43m(\u001b[49m\u001b[38;5;241;43m10\u001b[39;49m\u001b[43m)\u001b[49m)\n\u001b[0;32m     14\u001b[0m \u001b[38;5;28mprint\u001b[39m(data)\n",
      "\u001b[1;31mKeyError\u001b[0m: 10"
     ]
    }
   ],
   "source": [
    "# set object\n",
    "data = {1, 3, 4, 5}\n",
    "print(data.discard(10))\n",
    "#Remove an element from a set if it is a member.\n",
    "#If the element is not a member, do nothing.\n",
    "\n",
    "print(data)\n",
    "\n",
    "# set.remove()\n",
    "#Remove an element from a set; it must be a member.\n",
    "#If the element is not a member, raise a KeyError.\n",
    "\n",
    "print(data.remove(10))\n",
    "print(data)\n"
   ]
  },
  {
   "cell_type": "code",
   "execution_count": 24,
   "id": "bafd8607-7eec-429d-8bd1-5347dfb599be",
   "metadata": {},
   "outputs": [
    {
     "name": "stdout",
     "output_type": "stream",
     "text": [
      "Help on built-in function remove:\n",
      "\n",
      "remove(...) method of builtins.set instance\n",
      "    Remove an element from a set; it must be a member.\n",
      "    \n",
      "    If the element is not a member, raise a KeyError.\n",
      "\n"
     ]
    }
   ],
   "source": [
    "help(data.remove)\n"
   ]
  },
  {
   "cell_type": "code",
   "execution_count": 30,
   "id": "7a7653cb-50a3-4e96-b373-924553eb76e1",
   "metadata": {},
   "outputs": [
    {
     "name": "stdout",
     "output_type": "stream",
     "text": [
      "set()\n"
     ]
    }
   ],
   "source": [
    "# We can also remove all the items from a set using the clear() method.\n",
    "my_set= {1, 2, 3}\n",
    "my_set.clear()\n",
    "print(my_set)"
   ]
  },
  {
   "cell_type": "code",
   "execution_count": 34,
   "id": "45994261-3c3e-4692-8bc4-b205c7702ec2",
   "metadata": {},
   "outputs": [
    {
     "name": "stdout",
     "output_type": "stream",
     "text": [
      "{'e', 'H', 'd', 'o', 'l', 'r', 'W'}\n",
      "{'o', 'l', 'r', 'W'}\n"
     ]
    }
   ],
   "source": [
    "my_set = set(\"HelloWorld\")\n",
    "print(my_set)\n",
    "my_set.pop()\n",
    "my_set.pop()\n",
    "my_set.pop()\n",
    "print(my_set)"
   ]
  },
  {
   "cell_type": "code",
   "execution_count": null,
   "id": "7a7df11e-7dd8-4666-b04e-cfd518753241",
   "metadata": {},
   "outputs": [],
   "source": []
  },
  {
   "cell_type": "code",
   "execution_count": null,
   "id": "8fd22c9e-241c-40d8-a6b6-85a3fcb4525e",
   "metadata": {},
   "outputs": [],
   "source": [
    "# set is in unordered collection"
   ]
  },
  {
   "cell_type": "code",
   "execution_count": 39,
   "id": "f4958cea-38ed-41e8-9fe3-abf5fb6fa475",
   "metadata": {},
   "outputs": [
    {
     "name": "stdout",
     "output_type": "stream",
     "text": [
      "{1, 2, 3}\n",
      "{8, 6, 7}\n",
      "{1, 2, 3}\n",
      "{8, 6, 7}\n"
     ]
    }
   ],
   "source": [
    "# Difference of two sets\n",
    "# initialize A and B\n",
    "A = {1, 2, 3, 4, 5}\n",
    "B = {4, 5, 6, 7, 8}\n",
    "\n",
    "# use - operator on A\n",
    "# Output: {1, 2, 3}\n",
    "print(A - B)\n",
    "print(B - A)\n",
    "\n",
    "print(A.difference(B))\n",
    "print(B.difference(A))"
   ]
  },
  {
   "cell_type": "code",
   "execution_count": 41,
   "id": "f50453b1-2341-4492-97e1-21ccaad1f109",
   "metadata": {},
   "outputs": [
    {
     "name": "stdout",
     "output_type": "stream",
     "text": [
      "{1, 2, 3, 6, 7, 8}\n",
      "{1, 2, 3, 6, 7, 8}\n"
     ]
    }
   ],
   "source": [
    "# Symmetric difference of two sets\n",
    "# initialize A and B\n",
    "A = {1, 2, 3, 4, 5}\n",
    "B = {4, 5, 6, 7, 8}\n",
    "\n",
    "# use ^ operator\n",
    "# Output: {1, 2, 3, 6, 7, 8}\n",
    "print(A ^ B)\n",
    "print(A.symmetric_difference(B)) # excludes the intersection"
   ]
  },
  {
   "cell_type": "code",
   "execution_count": null,
   "id": "c1c2826a-389b-4d38-8e90-7263564ad221",
   "metadata": {},
   "outputs": [],
   "source": []
  }
 ],
 "metadata": {
  "kernelspec": {
   "display_name": "Python 3 (ipykernel)",
   "language": "python",
   "name": "python3"
  },
  "language_info": {
   "codemirror_mode": {
    "name": "ipython",
    "version": 3
   },
   "file_extension": ".py",
   "mimetype": "text/x-python",
   "name": "python",
   "nbconvert_exporter": "python",
   "pygments_lexer": "ipython3",
   "version": "3.10.4"
  }
 },
 "nbformat": 4,
 "nbformat_minor": 5
}
