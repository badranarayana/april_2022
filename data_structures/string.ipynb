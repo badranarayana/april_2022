{
 "cells": [
  {
   "cell_type": "code",
   "execution_count": null,
   "id": "d6e82562-dcea-46cc-b99c-158c3650d59b",
   "metadata": {},
   "outputs": [],
   "source": [
    "# what is string?\n",
    "\"\"\"\n",
    "String is nothing but a group of chars enclosed between quotes, (\"\", '', ''' ''')\n",
    "\n",
    "--> string is a immutable sequence object\n",
    "--> string also stores data in the form index position\n",
    "--> string can be access with +ve index and -ve index\n",
    "--> slice operation also can apply on string\n",
    "\n",
    "\n",
    "\n",
    "Syntax:\n",
    "------\n",
    "\n",
    "<var_name> = \"<data>\"\n",
    "\n",
    "\n",
    "ex:\n",
    "\n",
    "location = \"Hyderabad\"\n",
    "\n",
    "data = \"c\"  # string with length of one\n",
    "\n",
    "data = \"\"  # empty string\n",
    "\n",
    "\"\"\""
   ]
  },
  {
   "cell_type": "code",
   "execution_count": 4,
   "id": "5028c132-6e65-4534-b5db-85e8f996bf5f",
   "metadata": {},
   "outputs": [
    {
     "name": "stdout",
     "output_type": "stream",
     "text": [
      "I\n",
      "U\n",
      "A\n",
      "A\n"
     ]
    }
   ],
   "source": [
    "car_brand = \"AUDI\"\n",
    "\n",
    "# index\n",
    "print(car_brand[3])\n",
    "print(car_brand[-3])\n",
    "\n",
    "print(car_brand[0])\n",
    "print(car_brand[-4])"
   ]
  },
  {
   "cell_type": "code",
   "execution_count": 11,
   "id": "238d0cfa-8ce3-4449-82bc-771405de8a45",
   "metadata": {},
   "outputs": [
    {
     "data": {
      "text/plain": [
       "'python language'"
      ]
     },
     "execution_count": 11,
     "metadata": {},
     "output_type": "execute_result"
    }
   ],
   "source": [
    "# slicing\n",
    "message = 'I love python language'\n",
    "message[7:]\n"
   ]
  },
  {
   "cell_type": "code",
   "execution_count": 12,
   "id": "5d389a67-572a-4273-928e-7272d321f6fe",
   "metadata": {},
   "outputs": [
    {
     "data": {
      "text/plain": [
       "'python'"
      ]
     },
     "execution_count": 12,
     "metadata": {},
     "output_type": "execute_result"
    }
   ],
   "source": [
    "message[7:13]"
   ]
  },
  {
   "cell_type": "code",
   "execution_count": 13,
   "id": "06e3ea47-0f1e-4ad8-83e2-59ce8719b5c4",
   "metadata": {},
   "outputs": [
    {
     "name": "stdout",
     "output_type": "stream",
     "text": [
      "22\n"
     ]
    }
   ],
   "source": [
    "# built in functions\n",
    "\n",
    "print(len(message))"
   ]
  },
  {
   "cell_type": "code",
   "execution_count": 19,
   "id": "14c7bf30-679d-44a8-a4c4-230d64ad8b10",
   "metadata": {},
   "outputs": [
    {
     "name": "stdout",
     "output_type": "stream",
     "text": [
      "Help on built-in function count:\n",
      "\n",
      "count(...) method of builtins.str instance\n",
      "    S.count(sub[, start[, end]]) -> int\n",
      "    \n",
      "    Return the number of non-overlapping occurrences of substring sub in\n",
      "    string S[start:end].  Optional arguments start and end are\n",
      "    interpreted as in slice notation.\n",
      "\n"
     ]
    }
   ],
   "source": [
    "help(''.count)"
   ]
  },
  {
   "cell_type": "code",
   "execution_count": 26,
   "id": "0add5eea-165f-4724-8d15-c1d3e6abd001",
   "metadata": {},
   "outputs": [
    {
     "name": "stdout",
     "output_type": "stream",
     "text": [
      "1\n",
      "valid\n"
     ]
    }
   ],
   "source": [
    "# lets evaluate if conditions\n",
    "# 0, None, [], {} , '' False --> False\n",
    "\n",
    "data = ' '\n",
    "print(len(data))\n",
    "if data:\n",
    "    print(\"valid\")"
   ]
  },
  {
   "cell_type": "code",
   "execution_count": 27,
   "id": "ea98ca8b-a7ac-4dae-a2c9-897978a304f4",
   "metadata": {},
   "outputs": [
    {
     "name": "stdout",
     "output_type": "stream",
     "text": [
      "H\n",
      "e\n",
      "l\n",
      "l\n",
      "o\n"
     ]
    }
   ],
   "source": [
    "# can iterate over string?\n",
    "\n",
    "for char in \"Hello\":\n",
    "    print(char)"
   ]
  },
  {
   "cell_type": "code",
   "execution_count": 29,
   "id": "fd67cfa3-90ed-4ce2-b306-09da5fa1d2ca",
   "metadata": {},
   "outputs": [
    {
     "name": "stdout",
     "output_type": "stream",
     "text": [
      "capitalize\n",
      "casefold\n",
      "center\n",
      "count\n",
      "encode\n",
      "endswith\n",
      "expandtabs\n",
      "find\n",
      "format\n",
      "format_map\n",
      "index\n",
      "isalnum\n",
      "isalpha\n",
      "isascii\n",
      "isdecimal\n",
      "isdigit\n",
      "isidentifier\n",
      "islower\n",
      "isnumeric\n",
      "isprintable\n",
      "isspace\n",
      "istitle\n",
      "isupper\n",
      "join\n",
      "ljust\n",
      "lower\n",
      "lstrip\n",
      "maketrans\n",
      "partition\n",
      "removeprefix\n",
      "removesuffix\n",
      "replace\n",
      "rfind\n",
      "rindex\n",
      "rjust\n",
      "rpartition\n",
      "rsplit\n",
      "rstrip\n",
      "split\n",
      "splitlines\n",
      "startswith\n",
      "strip\n",
      "swapcase\n",
      "title\n",
      "translate\n",
      "upper\n",
      "zfill\n"
     ]
    }
   ],
   "source": [
    "# how do we check string methods in string class?\n",
    "for item in dir(\"\"):\n",
    "    if not item.startswith(\"__\"):\n",
    "        print(item)"
   ]
  },
  {
   "cell_type": "code",
   "execution_count": null,
   "id": "4140b4ec-1c4d-4b2c-8653-45dfdca03e00",
   "metadata": {},
   "outputs": [],
   "source": [
    "\"\"\"\n",
    "s.startswith()\n",
    "s.endswith()\n",
    "\n",
    "s.lower()\n",
    "s.upper()\n",
    "s.title()\n",
    "s.capitalize()\n",
    "\n",
    "\n",
    "s.strip()\n",
    "s.lstrip()\n",
    "s.rstrip()\n",
    "\n",
    "\n",
    "s.split()\n",
    "\n",
    "s.join()\n",
    "\n",
    "\n",
    "s.format()\n",
    "\n",
    "s.count()\n",
    "\n",
    "s.encode()\n",
    "s.decode()\n",
    "\"\"\""
   ]
  },
  {
   "cell_type": "code",
   "execution_count": 34,
   "id": "00327efb-4428-4ddc-ad61-189158f8aec8",
   "metadata": {},
   "outputs": [],
   "source": [
    "# write a program to find the names whose name start with ab\n",
    "\n",
    "data = ['ab c praveen', 'acb rhul', 'abrde sanju']\n",
    "\n",
    "for name in data:\n",
    "    if name.startswith(\"abc\"):\n",
    "        print(name)\n"
   ]
  },
  {
   "cell_type": "code",
   "execution_count": null,
   "id": "416280ac-c357-401d-a8f1-7eec1e27f6bc",
   "metadata": {},
   "outputs": [],
   "source": []
  },
  {
   "cell_type": "code",
   "execution_count": null,
   "id": "19eac1b2-1907-45b4-a244-53891af69cdd",
   "metadata": {},
   "outputs": [],
   "source": [
    "# startswith() --> return True when given sequecne starts on string "
   ]
  },
  {
   "cell_type": "code",
   "execution_count": 40,
   "id": "b7ce6448-bf78-46f6-ae00-e1320b498b04",
   "metadata": {},
   "outputs": [
    {
     "name": "stdout",
     "output_type": "stream",
     "text": [
      "abc.txt\n"
     ]
    }
   ],
   "source": [
    "# endswith()m--> return True when given string endwith given sequence\n",
    "\n",
    "my_files = ['abc.txt', 'dddd.docx', 'cccc.pdf', 'rrrr.pdf']\n",
    "\n",
    "filter_type_filter = \".txt\"\n",
    "\n",
    "for file in my_files:\n",
    "    if file.endswith(filter_type_filter):\n",
    "        print(file)"
   ]
  },
  {
   "cell_type": "code",
   "execution_count": 46,
   "id": "091d6f1c-9185-44a6-984e-493f96e82af1",
   "metadata": {},
   "outputs": [
    {
     "name": "stdout",
     "output_type": "stream",
     "text": [
      "WIPRO PVT LTD\n",
      "Wipro Pvt Ltd\n",
      "Wipro pvt ltd\n"
     ]
    }
   ],
   "source": [
    "# string lower upper, title\n",
    "\n",
    "company_name = \"wipro pvt ltd\"\n",
    "\n",
    "# convent to upper case\n",
    "print(company_name.upper())\n",
    "\n",
    "# convert to title\n",
    "print(company_name.title())\n",
    "\n",
    "print(company_name.capitalize())"
   ]
  },
  {
   "cell_type": "code",
   "execution_count": 53,
   "id": "ca6adfbc-602d-482f-bdd9-41101f40882a",
   "metadata": {},
   "outputs": [
    {
     "name": "stdout",
     "output_type": "stream",
     "text": [
      "  hyderabad  \n",
      "9\n",
      "hyderabad  \n",
      "11\n",
      "  hyderabad\n",
      "11\n"
     ]
    }
   ],
   "source": [
    "# stripe is used to remove spaces at prefix and sufix\n",
    "\n",
    "location = \"  hyderabad  \"\n",
    "print(location)\n",
    "\n",
    "out1 = location.strip()\n",
    "print(len(out1))\n",
    "\n",
    "\n",
    "# lstripe prefix space removed\n",
    "out2 = location.lstrip()\n",
    "print(out2)\n",
    "print(len(out2))\n",
    "\n",
    "out3 = location.rstrip()\n",
    "print(out3)\n",
    "print(len(out3))\n"
   ]
  },
  {
   "cell_type": "code",
   "execution_count": null,
   "id": "eb74ccfd-61a5-4456-bd51-7095067f07ae",
   "metadata": {},
   "outputs": [],
   "source": []
  }
 ],
 "metadata": {
  "kernelspec": {
   "display_name": "Python 3 (ipykernel)",
   "language": "python",
   "name": "python3"
  },
  "language_info": {
   "codemirror_mode": {
    "name": "ipython",
    "version": 3
   },
   "file_extension": ".py",
   "mimetype": "text/x-python",
   "name": "python",
   "nbconvert_exporter": "python",
   "pygments_lexer": "ipython3",
   "version": "3.10.4"
  }
 },
 "nbformat": 4,
 "nbformat_minor": 5
}
