{
 "cells": [
  {
   "cell_type": "code",
   "execution_count": null,
   "id": "8968fafb-9bd1-467d-84ef-56a19edc515f",
   "metadata": {},
   "outputs": [],
   "source": [
    "\"\"\"\n",
    "What is tuple?\n",
    "\n",
    "--> tuple is one of the ordered immutable sequence object in python\n",
    "\n",
    "--> tuple can be created by using ()\n",
    "\n",
    "--> since tuple also sequence object, that means stores data in from of index position\n",
    "\n",
    "--> we can access items from tuple with +ve index and -ve index and also do slice operation\n",
    "\n",
    "\n",
    "Note: immutable, means data can't be manipulatable once object created in memory\n",
    "\n",
    "\n",
    "\n",
    "syntax:\n",
    "------\n",
    "\n",
    "data = (1,)\n",
    "\n",
    "or \n",
    "data = tuple() --> empty tuple\n",
    "\"\"\""
   ]
  },
  {
   "cell_type": "code",
   "execution_count": 1,
   "id": "8a0300b0-539a-4095-a02a-c61712864209",
   "metadata": {},
   "outputs": [
    {
     "name": "stdout",
     "output_type": "stream",
     "text": [
      "('male', 'female')\n"
     ]
    }
   ],
   "source": [
    "gender = ('male', 'female')\n",
    "print(gender)"
   ]
  },
  {
   "cell_type": "code",
   "execution_count": 2,
   "id": "1bfa50f5-ba23-4de4-a6c9-3eca759dccd7",
   "metadata": {},
   "outputs": [
    {
     "data": {
      "text/plain": [
       "tuple"
      ]
     },
     "execution_count": 2,
     "metadata": {},
     "output_type": "execute_result"
    }
   ],
   "source": [
    "type(gender)"
   ]
  },
  {
   "cell_type": "code",
   "execution_count": 9,
   "id": "a4497e64-fb88-4e30-b278-8e25a0d16eb3",
   "metadata": {},
   "outputs": [
    {
     "name": "stdout",
     "output_type": "stream",
     "text": [
      "<class 'tuple'>\n"
     ]
    }
   ],
   "source": [
    "# define single value tuple\n",
    "data = (11,)\n",
    "print(type(data))"
   ]
  },
  {
   "cell_type": "code",
   "execution_count": 12,
   "id": "0f3ccf71-8323-4f98-b9eb-fe10850128a3",
   "metadata": {},
   "outputs": [
    {
     "name": "stdout",
     "output_type": "stream",
     "text": [
      "1\n",
      "2\n"
     ]
    }
   ],
   "source": [
    "# indexing \n",
    "data = (1, 2, 3, 44, 5, 6)\n",
    "print(data[0])\n",
    "print(data[1])"
   ]
  },
  {
   "cell_type": "code",
   "execution_count": 13,
   "id": "ae11a221-823c-4f67-b6db-711fee14d0c3",
   "metadata": {},
   "outputs": [
    {
     "ename": "TypeError",
     "evalue": "'tuple' object does not support item assignment",
     "output_type": "error",
     "traceback": [
      "\u001b[1;31m---------------------------------------------------------------------------\u001b[0m",
      "\u001b[1;31mTypeError\u001b[0m                                 Traceback (most recent call last)",
      "Input \u001b[1;32mIn [13]\u001b[0m, in \u001b[0;36m<cell line: 2>\u001b[1;34m()\u001b[0m\n\u001b[0;32m      1\u001b[0m \u001b[38;5;66;03m# index assignment(tuple doesn't support this because immutable nature\u001b[39;00m\n\u001b[1;32m----> 2\u001b[0m data[\u001b[38;5;241m0\u001b[39m] \u001b[38;5;241m=\u001b[39m \u001b[38;5;241m55\u001b[39m\n\u001b[0;32m      4\u001b[0m \u001b[38;5;28mprint\u001b[39m(data)\n",
      "\u001b[1;31mTypeError\u001b[0m: 'tuple' object does not support item assignment"
     ]
    }
   ],
   "source": [
    "# index assignment(tuple doesn't support this because immutable nature\n",
    "data[0] = 55\n",
    "\n",
    "print(data)"
   ]
  },
  {
   "cell_type": "code",
   "execution_count": 17,
   "id": "542b38be-36af-45b4-ab41-967f13b9ab9f",
   "metadata": {},
   "outputs": [
    {
     "name": "stdout",
     "output_type": "stream",
     "text": [
      "(1, 2, 3, [1, 2, 30])\n",
      "(1, 2, 3, [2, 30])\n"
     ]
    }
   ],
   "source": [
    "data = (1, 2, 3, [1, 2]) # tuple contains mutable object.\n",
    "\n",
    "data[3].append(30)\n",
    "print(data)\n",
    "del data[3][0]\n",
    "print(data)\n",
    "\n",
    "# Note: tuple data can't modify , but we can modify  mutable objects data in tuple\n"
   ]
  },
  {
   "cell_type": "code",
   "execution_count": 18,
   "id": "ba33843f-34a7-4d9c-9566-6459ef4f3d71",
   "metadata": {},
   "outputs": [
    {
     "name": "stdout",
     "output_type": "stream",
     "text": [
      "1\n",
      "2\n",
      "3\n",
      "[2, 30]\n"
     ]
    }
   ],
   "source": [
    "# can iterate over tuple\n",
    "for i in data:\n",
    "    print(i)"
   ]
  },
  {
   "cell_type": "code",
   "execution_count": 29,
   "id": "8ad8723a-f16e-4c1e-be65-f18377b7e71b",
   "metadata": {},
   "outputs": [
    {
     "name": "stdout",
     "output_type": "stream",
     "text": [
      "False\n",
      "True\n",
      "[88, 66, 55, 12, 4, 4, 3, 1]\n",
      "[12, 66, 55, 88, 4, 1, 4, 3]\n",
      "8\n"
     ]
    }
   ],
   "source": [
    "# built - in function\n",
    "# all()\n",
    "\n",
    "print(all((1, '', 3)))\n",
    "\n",
    "print(any((3, '', 5)))\n",
    "\n",
    "\n",
    "\n",
    "data = (3, 4,1, 4, 88, 55, 66,12)\n",
    "\n",
    "print(sorted(data, reverse=True))\n",
    "\n",
    "# list(data)\n",
    "\n",
    "print(list(reversed(data)))\n",
    "\n",
    "print(len(data))\n"
   ]
  },
  {
   "cell_type": "code",
   "execution_count": 33,
   "id": "553e0cad-6afa-4079-85ce-08022c644d75",
   "metadata": {},
   "outputs": [
    {
     "data": {
      "text/plain": [
       "2"
      ]
     },
     "execution_count": 33,
     "metadata": {},
     "output_type": "execute_result"
    }
   ],
   "source": [
    "# tuple specific methods\n",
    "data = (1, 2, 3, 4, 3)\n",
    "data.index(4)\n",
    "\n",
    "data.count(3)\n"
   ]
  },
  {
   "cell_type": "code",
   "execution_count": null,
   "id": "ab8908d4-5733-4126-90ea-4033eece5ba0",
   "metadata": {},
   "outputs": [],
   "source": []
  }
 ],
 "metadata": {
  "kernelspec": {
   "display_name": "Python 3 (ipykernel)",
   "language": "python",
   "name": "python3"
  },
  "language_info": {
   "codemirror_mode": {
    "name": "ipython",
    "version": 3
   },
   "file_extension": ".py",
   "mimetype": "text/x-python",
   "name": "python",
   "nbconvert_exporter": "python",
   "pygments_lexer": "ipython3",
   "version": "3.10.4"
  }
 },
 "nbformat": 4,
 "nbformat_minor": 5
}
