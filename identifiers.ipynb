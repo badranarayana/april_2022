{
 "cells": [
  {
   "cell_type": "code",
   "execution_count": 1,
   "id": "0197bf82-fc1a-4096-88be-c5a0e6adcdc9",
   "metadata": {},
   "outputs": [
    {
     "name": "stdout",
     "output_type": "stream",
     "text": [
      "10\n"
     ]
    }
   ],
   "source": [
    "a = 10\n",
    "print(a)"
   ]
  },
  {
   "cell_type": "code",
   "execution_count": 2,
   "id": "64a9455e-c6b7-44d2-ab02-a5f89483a52c",
   "metadata": {},
   "outputs": [
    {
     "name": "stdout",
     "output_type": "stream",
     "text": [
      "33\n"
     ]
    }
   ],
   "source": [
    "b = 33\n",
    "print(b)"
   ]
  },
  {
   "cell_type": "code",
   "execution_count": 9,
   "id": "4abd4dcd-02a8-458f-badf-196e59efcbee",
   "metadata": {},
   "outputs": [
    {
     "ename": "SyntaxError",
     "evalue": "invalid syntax (2301301655.py, line 11)",
     "output_type": "error",
     "traceback": [
      "\u001b[1;36m  Input \u001b[1;32mIn [9]\u001b[1;36m\u001b[0m\n\u001b[1;33m    lambda = 30\u001b[0m\n\u001b[1;37m           ^\u001b[0m\n\u001b[1;31mSyntaxError\u001b[0m\u001b[1;31m:\u001b[0m invalid syntax\n"
     ]
    }
   ],
   "source": [
    "# rule #1: we cant use reserved/built-in keys as user defined identifiers\n",
    "\n",
    "# valid\n",
    "\n",
    "age = 20\n",
    "print(age)\n",
    "\n",
    "# inavlid (using built-in)\n",
    "#if = 30\n",
    "#for = 30\n",
    "lambda = 30"
   ]
  },
  {
   "cell_type": "code",
   "execution_count": 13,
   "id": "39b08b74-1e1b-4711-9758-910177c31681",
   "metadata": {},
   "outputs": [],
   "source": [
    "# rule #2: Python identifier can contain letters in a small case (a-z), \n",
    "#upper case (A-Z), digits (0-9), and\n",
    "#underscore (_).\n",
    "\n",
    "name = \"SumanIT\"\n",
    "first_name = \"Abc\"\n",
    "last_name = \"xyc\"\n",
    "\n",
    "name1 = \"AHDHD\"\n",
    "firstName = \"SHHSHS\"\n",
    "\n",
    "my_1_car_name = \"Honda\"\n"
   ]
  },
  {
   "cell_type": "code",
   "execution_count": 16,
   "id": "1b5bd277-e0fd-4996-9d3c-9a844e7e5f0d",
   "metadata": {},
   "outputs": [],
   "source": [
    "# Identifier name can’t begin with a digit.\n",
    "\n",
    "\n",
    "1name = \"Badra\"\n",
    "\n",
    "# we prefix _ when we want to make variable private\n"
   ]
  },
  {
   "cell_type": "code",
   "execution_count": 19,
   "id": "053a493c-1953-4806-853a-b99d587fa5ee",
   "metadata": {},
   "outputs": [],
   "source": [
    "# Python identifier name can start with an underscore.\n",
    "\n",
    "_for = \"Hello\""
   ]
  },
  {
   "cell_type": "code",
   "execution_count": null,
   "id": "136acb8c-9935-473d-acae-97dd3421cd67",
   "metadata": {},
   "outputs": [],
   "source": [
    "#There is no limit on the length of the identifier name.\n",
    "\n",
    "my_home_location_address = \"Hyder\"\n"
   ]
  },
  {
   "cell_type": "code",
   "execution_count": 25,
   "id": "8973e5e1-cffb-4a7a-9d4f-770925a723a2",
   "metadata": {},
   "outputs": [
    {
     "name": "stdout",
     "output_type": "stream",
     "text": [
      "1917365612272\n",
      "1917365642992\n",
      "Badra\n",
      "Badra1\n"
     ]
    }
   ],
   "source": [
    "# Python identifier names are case sensitive.\n",
    "\n",
    "# A and a treat as two seprate chars\n",
    "\n",
    "name = \"Badra\"\n",
    "Name = \"Badra1\"\n",
    "\n",
    "# lets verify\n",
    "print(id(name))\n",
    "print(id(Name))\n",
    "\n",
    "print(name)\n",
    "print(Name)"
   ]
  },
  {
   "cell_type": "code",
   "execution_count": 26,
   "id": "8dcc0df2-6d72-4515-8197-e58caf8c4fdb",
   "metadata": {},
   "outputs": [
    {
     "name": "stdout",
     "output_type": "stream",
     "text": [
      "ehhl\n",
      "rrrr\n"
     ]
    }
   ],
   "source": [
    "name = \"ehhl\"\n",
    "age = 30\n",
    "print(name)\n",
    "name = \"rrrr\"\n",
    "print(name)"
   ]
  },
  {
   "cell_type": "code",
   "execution_count": 27,
   "id": "184725fb-8d76-43be-8af9-b6b4c65e1116",
   "metadata": {},
   "outputs": [
    {
     "ename": "SyntaxError",
     "evalue": "cannot assign to expression here. Maybe you meant '==' instead of '='? (2318832448.py, line 1)",
     "output_type": "error",
     "traceback": [
      "\u001b[1;36m  Input \u001b[1;32mIn [27]\u001b[1;36m\u001b[0m\n\u001b[1;33m    val@1 = 3 # invalid\u001b[0m\n\u001b[1;37m    ^\u001b[0m\n\u001b[1;31mSyntaxError\u001b[0m\u001b[1;31m:\u001b[0m cannot assign to expression here. Maybe you meant '==' instead of '='?\n"
     ]
    }
   ],
   "source": [
    "val@1 = 3 # invalid"
   ]
  },
  {
   "cell_type": "code",
   "execution_count": 28,
   "id": "39491021-c8ab-49c1-9ebb-a6678cff79dc",
   "metadata": {},
   "outputs": [],
   "source": [
    "val_1 = 55"
   ]
  },
  {
   "cell_type": "code",
   "execution_count": 29,
   "id": "f8e8d593-26f9-4168-b654-30e00ed12378",
   "metadata": {},
   "outputs": [
    {
     "ename": "SyntaxError",
     "evalue": "invalid syntax (1722526890.py, line 1)",
     "output_type": "error",
     "traceback": [
      "\u001b[1;36m  Input \u001b[1;32mIn [29]\u001b[1;36m\u001b[0m\n\u001b[1;33m    val$r = 44 # Invalid\u001b[0m\n\u001b[1;37m       ^\u001b[0m\n\u001b[1;31mSyntaxError\u001b[0m\u001b[1;31m:\u001b[0m invalid syntax\n"
     ]
    }
   ],
   "source": [
    "val$r = 44 # Invalid"
   ]
  },
  {
   "cell_type": "code",
   "execution_count": 30,
   "id": "9e1c56d4-281c-4c2f-90af-84e14e5f4464",
   "metadata": {},
   "outputs": [],
   "source": [
    "# valid\n",
    "company_name = \"Suman\"\n",
    "\n",
    "_company_name = \"Wipro\"   # private \n",
    "\n",
    "address1 = \"Kphb\"\n"
   ]
  },
  {
   "cell_type": "code",
   "execution_count": null,
   "id": "0838593c-860e-4239-bca2-febc0117fefd",
   "metadata": {},
   "outputs": [],
   "source": [
    "# functions\n",
    "# here my_func_name is the identifier\n",
    "def my_func_name():\n",
    "    # business logic\n",
    "    pass\n",
    "\n",
    "my_func_name()"
   ]
  },
  {
   "cell_type": "code",
   "execution_count": null,
   "id": "e746cc0b-2a39-42cd-b5ba-44b6f89c1c76",
   "metadata": {},
   "outputs": [],
   "source": [
    "# class\n",
    "class Employee():\n",
    "    pass\n",
    "\n",
    "class MyClass:\n",
    "    pass\n"
   ]
  }
 ],
 "metadata": {
  "kernelspec": {
   "display_name": "Python 3 (ipykernel)",
   "language": "python",
   "name": "python3"
  },
  "language_info": {
   "codemirror_mode": {
    "name": "ipython",
    "version": 3
   },
   "file_extension": ".py",
   "mimetype": "text/x-python",
   "name": "python",
   "nbconvert_exporter": "python",
   "pygments_lexer": "ipython3",
   "version": "3.10.4"
  }
 },
 "nbformat": 4,
 "nbformat_minor": 5
}
