{
 "cells": [
  {
   "cell_type": "code",
   "execution_count": null,
   "id": "722be707-3ecc-4db2-9bdb-8d9257f9e019",
   "metadata": {},
   "outputs": [],
   "source": [
    "# what is the use of identity opeators?\n",
    "# used to compare the objects whether both objects are from same memoroy location or not"
   ]
  },
  {
   "cell_type": "code",
   "execution_count": 1,
   "id": "4a0a77a6-c520-43cb-b592-f287b2274d58",
   "metadata": {},
   "outputs": [
    {
     "name": "stdout",
     "output_type": "stream",
     "text": [
      "1857077641744\n",
      "1857077642064\n"
     ]
    }
   ],
   "source": [
    "a = 10\n",
    "b = 20\n",
    "\n",
    "# lets print the ids of above variables\n",
    "print(id(a))\n",
    "print(id(b))"
   ]
  },
  {
   "cell_type": "code",
   "execution_count": 2,
   "id": "a50c8573-cd25-40ed-a3f1-4d19216c2c9b",
   "metadata": {},
   "outputs": [
    {
     "name": "stdout",
     "output_type": "stream",
     "text": [
      "1857155220224\n",
      "1857155200320\n"
     ]
    }
   ],
   "source": [
    "# mutable data types\n",
    "a = [1, 2, 3]\n",
    "b = [1, 2, 3]\n",
    "print(id(a))\n",
    "print(id(b))"
   ]
  },
  {
   "cell_type": "code",
   "execution_count": 3,
   "id": "171672c6-7dd1-47a4-bd50-c4bdaa3fe3ad",
   "metadata": {},
   "outputs": [
    {
     "name": "stdout",
     "output_type": "stream",
     "text": [
      "1857077641744\n",
      "1857077641744\n"
     ]
    }
   ],
   "source": [
    "a = 10\n",
    "b = 10\n",
    "print(id(a))\n",
    "print(id(b))"
   ]
  },
  {
   "cell_type": "code",
   "execution_count": 7,
   "id": "43edbe90-2bc2-4c95-8daf-a9304a8038b3",
   "metadata": {},
   "outputs": [
    {
     "name": "stdout",
     "output_type": "stream",
     "text": [
      "1857154978864\n",
      "1857154978864\n",
      "1857154978864\n",
      "1857154978864\n"
     ]
    }
   ],
   "source": [
    "a = 'sumanit'\n",
    "b = 'sumanit'\n",
    "c = 'sumanit'\n",
    "d = c\n",
    "print(id(a))\n",
    "print(id(b))\n",
    "print(id(c))\n",
    "print(id(d))"
   ]
  },
  {
   "cell_type": "code",
   "execution_count": 8,
   "id": "a6f01ef0-28d7-4944-84c0-fb848d695b41",
   "metadata": {},
   "outputs": [
    {
     "name": "stdout",
     "output_type": "stream",
     "text": [
      "1857155135088\n"
     ]
    }
   ],
   "source": [
    "e = \"Sumanit\"\n",
    "print(id(e))"
   ]
  },
  {
   "cell_type": "code",
   "execution_count": null,
   "id": "fd248fa2-be64-4921-ae6b-3f2bb532e763",
   "metadata": {},
   "outputs": [],
   "source": [
    "# id() is built in function, used to find the id of given variable"
   ]
  },
  {
   "cell_type": "code",
   "execution_count": 10,
   "id": "ab9c7427-aa4c-4b53-80db-926fb08f0309",
   "metadata": {},
   "outputs": [
    {
     "name": "stdout",
     "output_type": "stream",
     "text": [
      "True\n",
      "True\n"
     ]
    }
   ],
   "source": [
    "a = 10\n",
    "b = 10\n",
    "print(a is b)  # \n",
    "#print(id(a) == id(b))"
   ]
  },
  {
   "cell_type": "code",
   "execution_count": 11,
   "id": "23b1bda2-2bfc-42d4-8dee-d4925268a38f",
   "metadata": {},
   "outputs": [
    {
     "name": "stdout",
     "output_type": "stream",
     "text": [
      "False\n"
     ]
    }
   ],
   "source": [
    "a = 20\n",
    "b = 30\n",
    "print(a is b)"
   ]
  },
  {
   "cell_type": "code",
   "execution_count": 12,
   "id": "842d5947-7e51-48cc-835e-c598e5748594",
   "metadata": {},
   "outputs": [
    {
     "name": "stdout",
     "output_type": "stream",
     "text": [
      "True\n"
     ]
    }
   ],
   "source": [
    "a = 100\n",
    "b = 100\n",
    "print(a is b)"
   ]
  },
  {
   "cell_type": "code",
   "execution_count": 13,
   "id": "cfd7d044-b936-4e21-8388-7f75bb77b3ca",
   "metadata": {},
   "outputs": [
    {
     "name": "stdout",
     "output_type": "stream",
     "text": [
      "False\n"
     ]
    }
   ],
   "source": [
    "a = 400\n",
    "b = 400\n",
    "print(a is b)"
   ]
  },
  {
   "cell_type": "code",
   "execution_count": 14,
   "id": "1bb53d1b-3770-4683-97e8-70fe85007cae",
   "metadata": {},
   "outputs": [
    {
     "name": "stdout",
     "output_type": "stream",
     "text": [
      "True\n"
     ]
    }
   ],
   "source": [
    "a = 101\n",
    "b = 101\n",
    "print(a is b)\n"
   ]
  },
  {
   "cell_type": "code",
   "execution_count": 15,
   "id": "6424eefe-961d-4732-95a6-7344b59a2d73",
   "metadata": {},
   "outputs": [
    {
     "name": "stdout",
     "output_type": "stream",
     "text": [
      "True\n"
     ]
    }
   ],
   "source": [
    "a = 200\n",
    "b = 200\n",
    "print(a is b)"
   ]
  },
  {
   "cell_type": "code",
   "execution_count": 16,
   "id": "57246334-bed1-4754-83b7-97ac14cfffdf",
   "metadata": {},
   "outputs": [
    {
     "name": "stdout",
     "output_type": "stream",
     "text": [
      "True\n"
     ]
    }
   ],
   "source": [
    "a = 201\n",
    "b = 201\n",
    "print(a is b)"
   ]
  },
  {
   "cell_type": "code",
   "execution_count": 17,
   "id": "c88d32df-f1d1-4784-a224-463ea6bf8ec3",
   "metadata": {},
   "outputs": [
    {
     "name": "stdout",
     "output_type": "stream",
     "text": [
      "False\n"
     ]
    }
   ],
   "source": [
    "a = 257\n",
    "b = 257\n",
    "print(a is b)"
   ]
  },
  {
   "cell_type": "code",
   "execution_count": 18,
   "id": "803d9a38-2d90-4fe7-88a7-09d2811026d6",
   "metadata": {},
   "outputs": [
    {
     "name": "stdout",
     "output_type": "stream",
     "text": [
      "True\n"
     ]
    }
   ],
   "source": [
    "a = 250\n",
    "b = 250\n",
    "print(a is b)"
   ]
  },
  {
   "cell_type": "code",
   "execution_count": 19,
   "id": "d2821a3a-c2e1-46cf-8631-bdfb211ef0db",
   "metadata": {},
   "outputs": [
    {
     "name": "stdout",
     "output_type": "stream",
     "text": [
      "True\n"
     ]
    }
   ],
   "source": [
    "a = 251\n",
    "b = 251\n",
    "print( a is b)"
   ]
  },
  {
   "cell_type": "code",
   "execution_count": 20,
   "id": "6931b475-17cc-4346-8604-a4e72229092a",
   "metadata": {},
   "outputs": [
    {
     "name": "stdout",
     "output_type": "stream",
     "text": [
      "True\n"
     ]
    }
   ],
   "source": [
    "# use on string\n",
    "s = \"sumanit\"\n",
    "c = \"sumanit\"\n",
    "print(s is c)"
   ]
  },
  {
   "cell_type": "code",
   "execution_count": 22,
   "id": "cc9d02d8-884d-4b8e-91a0-7263eaae04dd",
   "metadata": {},
   "outputs": [
    {
     "name": "stdout",
     "output_type": "stream",
     "text": [
      "False\n"
     ]
    }
   ],
   "source": [
    "colors = ['green', 'red']\n",
    "colors2 = ['green', 'red']\n",
    "\n",
    "print(colors is colors2)"
   ]
  },
  {
   "cell_type": "code",
   "execution_count": 26,
   "id": "1e06678d-cb5c-415e-a139-adb35f93639a",
   "metadata": {},
   "outputs": [
    {
     "name": "stdout",
     "output_type": "stream",
     "text": [
      "1857159050368\n",
      "1857154982400\n",
      "True\n"
     ]
    }
   ],
   "source": [
    "colors3 = colors2\n",
    "\n",
    "print(id(colors))\n",
    "print(id(colors2))\n",
    "\n",
    "print(colors3 is colors2)\n"
   ]
  },
  {
   "cell_type": "code",
   "execution_count": 29,
   "id": "8385f5ee-d72f-42c2-b984-cd15642ac148",
   "metadata": {},
   "outputs": [
    {
     "name": "stdout",
     "output_type": "stream",
     "text": [
      "1857160478944 1857160480544\n"
     ]
    }
   ],
   "source": [
    "# tuples\n",
    "data = (1, 2, 3, 4, 5)\n",
    "data1 = (1, 2, 3, 4, 5)\n",
    "print(id(data), id((data1)))\n"
   ]
  },
  {
   "cell_type": "code",
   "execution_count": 30,
   "id": "73cdcbd4-bb0c-4206-a957-fa5941efb25a",
   "metadata": {},
   "outputs": [
    {
     "name": "stdout",
     "output_type": "stream",
     "text": [
      "False\n"
     ]
    }
   ],
   "source": [
    "data = (1,2)\n",
    "data1 = (1,2)\n",
    "print(data is data1)"
   ]
  },
  {
   "cell_type": "code",
   "execution_count": 31,
   "id": "69cafefa-4029-4f93-9e5d-d8cbda9e49e1",
   "metadata": {},
   "outputs": [
    {
     "name": "stdout",
     "output_type": "stream",
     "text": [
      "False\n"
     ]
    }
   ],
   "source": [
    "# dict data\n",
    "data = {'a': 1, 'b': 2}\n",
    "data1 = {'a': 1, 'b': 2}\n",
    "print(data is data1)\n"
   ]
  },
  {
   "cell_type": "code",
   "execution_count": 35,
   "id": "8126ecff-2152-4dca-a764-47d94b7d695c",
   "metadata": {},
   "outputs": [
    {
     "name": "stdout",
     "output_type": "stream",
     "text": [
      "[1, 2, 3, 4]\n",
      "[1, 2, 3, 4, 5]\n"
     ]
    }
   ],
   "source": [
    "# write a program to add elemennts to list with out effecting original\n",
    "data = [1, 2, 3, 4]\n",
    "\n",
    "data1 = data.copy() # wrong\n",
    "\n",
    "if data is not data1:\n",
    "    data1.append(5)\n",
    "else:\n",
    "    print(\"Seems like original get effected\")\n",
    "\n",
    "print(data)\n",
    "print(data1)\n",
    "\n",
    "\n",
    "\n",
    "\n",
    "\n"
   ]
  },
  {
   "cell_type": "code",
   "execution_count": null,
   "id": "7c1a05a8-9528-4565-8b8b-c109e40abd94",
   "metadata": {},
   "outputs": [],
   "source": []
  }
 ],
 "metadata": {
  "kernelspec": {
   "display_name": "Python 3 (ipykernel)",
   "language": "python",
   "name": "python3"
  },
  "language_info": {
   "codemirror_mode": {
    "name": "ipython",
    "version": 3
   },
   "file_extension": ".py",
   "mimetype": "text/x-python",
   "name": "python",
   "nbconvert_exporter": "python",
   "pygments_lexer": "ipython3",
   "version": "3.10.4"
  }
 },
 "nbformat": 4,
 "nbformat_minor": 5
}
