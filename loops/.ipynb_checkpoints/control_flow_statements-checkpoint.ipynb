{
 "cells": [
  {
   "cell_type": "code",
   "execution_count": 1,
   "id": "242a246a-93aa-45bb-b37f-4cec834fdcf8",
   "metadata": {},
   "outputs": [
    {
     "ename": "SyntaxError",
     "evalue": "incomplete input (3920484122.py, line 2)",
     "output_type": "error",
     "traceback": [
      "\u001b[1;36m  Input \u001b[1;32mIn [1]\u001b[1;36m\u001b[0m\n\u001b[1;33m    \"\"\"\u001b[0m\n\u001b[1;37m    ^\u001b[0m\n\u001b[1;31mSyntaxError\u001b[0m\u001b[1;31m:\u001b[0m incomplete input\n"
     ]
    }
   ],
   "source": [
    "# loop control statement\n",
    "\"\"\"\n",
    "It change flow of execution of loops(change the behaviour of loop)\n",
    "1) break\n",
    "2) continue\n",
    "\n",
    "\"\"\""
   ]
  },
  {
   "cell_type": "code",
   "execution_count": 8,
   "id": "4e48e67d-8c0f-4b48-915e-c1b3315280bb",
   "metadata": {},
   "outputs": [
    {
     "name": "stdout",
     "output_type": "stream",
     "text": [
      "Value found\n",
      "HHHHHH\n",
      "HHHHHH\n",
      "HHHHHH\n",
      "HHHHHH\n",
      "HHHHHH\n",
      "HHHHHH\n",
      "HHHHHH\n",
      "HHHHHH\n",
      "HHHHHH\n",
      "HHHHHH\n",
      "out side for loop\n"
     ]
    }
   ],
   "source": [
    "# write program to find the given value in list?\n",
    "\n",
    "filter_val = 1\n",
    "data = [1, 2, 3, 4, 5, 6, 7, 8, 9, 10]\n",
    "\n",
    "for i in data:\n",
    "    if i == filter_val:\n",
    "        print(\"Value found\")\n",
    "        #break\n",
    "    \n",
    "    print(\"HHHHHH\")\n",
    "\n",
    "print(\"out side for loop\")\n"
   ]
  },
  {
   "cell_type": "code",
   "execution_count": 13,
   "id": "b831bd2d-419d-4c3e-aa44-83c775d9a622",
   "metadata": {},
   "outputs": [
    {
     "name": "stdout",
     "output_type": "stream",
     "text": [
      "ravi --> +91 4040400403\n"
     ]
    }
   ],
   "source": [
    "# write a prorgam to find friend phone number in list?\n",
    "\n",
    "data = [{'name': \"rajesh\", \n",
    "         'mobile_number': \"+91 4040400404\"},\n",
    "        {'name': \"ravi\", \n",
    "         'mobile_number': \"+91 4040400403\"},\n",
    "        {'name': \"anu\", \n",
    "         'mobile_number': \"+91 4040400406\"}\n",
    "       ]\n",
    "\n",
    "\n",
    "name = input(\"Please enter name : \")\n",
    "\n",
    "for friend_contact in data:\n",
    "    friend_name = friend_contact['name']\n",
    "    mobile_number = friend_contact['mobile_number']\n",
    "    if name == friend_name:\n",
    "        print(f\"{friend_name} --> {mobile_number}\")\n",
    "        #print(\"Name: \", friend_name)\n",
    "        #print(\"mobile number : \", mobile_number)\n",
    "        \n",
    "        \n",
    "        \n",
    "        \n",
    "\n",
    "\n"
   ]
  },
  {
   "cell_type": "code",
   "execution_count": null,
   "id": "0d795bbf-f1e6-4ef5-9097-318f75223757",
   "metadata": {},
   "outputs": [],
   "source": []
  }
 ],
 "metadata": {
  "kernelspec": {
   "display_name": "Python 3 (ipykernel)",
   "language": "python",
   "name": "python3"
  },
  "language_info": {
   "codemirror_mode": {
    "name": "ipython",
    "version": 3
   },
   "file_extension": ".py",
   "mimetype": "text/x-python",
   "name": "python",
   "nbconvert_exporter": "python",
   "pygments_lexer": "ipython3",
   "version": "3.10.4"
  }
 },
 "nbformat": 4,
 "nbformat_minor": 5
}
