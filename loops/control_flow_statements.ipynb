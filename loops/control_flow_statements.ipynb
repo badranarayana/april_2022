{
 "cells": [
  {
   "cell_type": "code",
   "execution_count": 1,
   "id": "242a246a-93aa-45bb-b37f-4cec834fdcf8",
   "metadata": {},
   "outputs": [
    {
     "ename": "SyntaxError",
     "evalue": "incomplete input (3920484122.py, line 2)",
     "output_type": "error",
     "traceback": [
      "\u001b[1;36m  Input \u001b[1;32mIn [1]\u001b[1;36m\u001b[0m\n\u001b[1;33m    \"\"\"\u001b[0m\n\u001b[1;37m    ^\u001b[0m\n\u001b[1;31mSyntaxError\u001b[0m\u001b[1;31m:\u001b[0m incomplete input\n"
     ]
    }
   ],
   "source": [
    "# loop control statement\n",
    "\"\"\"\n",
    "It change flow of execution of loops(change the behaviour of loop)\n",
    "1) break\n",
    "2) continue\n",
    "\n",
    "\"\"\""
   ]
  },
  {
   "cell_type": "code",
   "execution_count": 8,
   "id": "4e48e67d-8c0f-4b48-915e-c1b3315280bb",
   "metadata": {},
   "outputs": [
    {
     "name": "stdout",
     "output_type": "stream",
     "text": [
      "Value found\n",
      "HHHHHH\n",
      "HHHHHH\n",
      "HHHHHH\n",
      "HHHHHH\n",
      "HHHHHH\n",
      "HHHHHH\n",
      "HHHHHH\n",
      "HHHHHH\n",
      "HHHHHH\n",
      "HHHHHH\n",
      "out side for loop\n"
     ]
    }
   ],
   "source": [
    "# write program to find the given value in list?\n",
    "\n",
    "filter_val = 1\n",
    "data = [1, 2, 3, 4, 5, 6, 7, 8, 9, 10]\n",
    "\n",
    "for i in data:\n",
    "    if i == filter_val:\n",
    "        print(\"Value found\")\n",
    "        #break\n",
    "    \n",
    "    print(\"HHHHHH\")\n",
    "\n",
    "print(\"out side for loop\")\n"
   ]
  },
  {
   "cell_type": "code",
   "execution_count": 17,
   "id": "b831bd2d-419d-4c3e-aa44-83c775d9a622",
   "metadata": {},
   "outputs": [
    {
     "name": "stdin",
     "output_type": "stream",
     "text": [
      "Please enter name :  ravi\n"
     ]
    },
    {
     "name": "stdout",
     "output_type": "stream",
     "text": [
      "UUUU\n",
      "ravi --> +91 4040400403\n"
     ]
    }
   ],
   "source": [
    "# write a prorgam to find friend phone number in list?\n",
    "\n",
    "data = [{'name': \"rajesh\", \n",
    "         'mobile_number': \"+91 4040400404\"},\n",
    "        {'name': \"ravi\", \n",
    "         'mobile_number': \"+91 4040400403\"},\n",
    "        {'name': \"anu\", \n",
    "         'mobile_number': \"+91 4040400406\"}\n",
    "       ]\n",
    "\n",
    "\n",
    "name = input(\"Please enter name : \")\n",
    "\n",
    "for friend_contact in data:\n",
    "    friend_name = friend_contact['name']\n",
    "    mobile_number = friend_contact['mobile_number']\n",
    "    if name == friend_name:\n",
    "        print(f\"{friend_name} --> {mobile_number}\")\n",
    "        break\n",
    "        #print(\"Name: \", friend_name)\n",
    "        #print(\"mobile number : \", mobile_number)\n",
    "    \n",
    "    print(\"UUUU\")\n",
    "        \n",
    "        \n",
    "        \n",
    "        \n",
    "\n",
    "\n"
   ]
  },
  {
   "cell_type": "code",
   "execution_count": 18,
   "id": "0d795bbf-f1e6-4ef5-9097-318f75223757",
   "metadata": {},
   "outputs": [
    {
     "name": "stdout",
     "output_type": "stream",
     "text": [
      "found\n"
     ]
    }
   ],
   "source": [
    "message = \"I love india\"\n",
    "\n",
    "# love word in string\n",
    "if 'love' in message:\n",
    "    print(\"found\")"
   ]
  },
  {
   "cell_type": "code",
   "execution_count": 25,
   "id": "d5081ae5-38dd-416d-8a59-cf7484777132",
   "metadata": {},
   "outputs": [
    {
     "name": "stdout",
     "output_type": "stream",
     "text": [
      "HHHH\n",
      "found\n"
     ]
    }
   ],
   "source": [
    "# use loops to solve the problem\n",
    "message = \"I love india\"\n",
    "\n",
    "words = message.split(\" \")\n",
    "#print(words)\n",
    "\n",
    "\n",
    "for word in words:\n",
    "    #print(word)\n",
    "    if word == 'love':\n",
    "        print(\"found\")\n",
    "        break\n",
    "    \n",
    "    print(\"HHHH\")"
   ]
  },
  {
   "cell_type": "code",
   "execution_count": 28,
   "id": "f9dbb148-bb66-41ec-9927-b4a63c16fc96",
   "metadata": {},
   "outputs": [
    {
     "name": "stdout",
     "output_type": "stream",
     "text": [
      "I\n",
      "india\n"
     ]
    }
   ],
   "source": [
    "# write a program to print all words except love\n",
    "\n",
    "message = \"I love india\"\n",
    "\n",
    "words = message.split(\" \")  # ['I', 'love', 'india']\n",
    "#print(words)\n",
    "\n",
    "\n",
    "for word in words:\n",
    "    #print(word)\n",
    "    if word == 'love':\n",
    "        continue\n",
    "    \n",
    "    print(word)"
   ]
  },
  {
   "cell_type": "code",
   "execution_count": 31,
   "id": "274deb57-2daf-4312-8b72-c874a4295788",
   "metadata": {},
   "outputs": [
    {
     "name": "stdout",
     "output_type": "stream",
     "text": [
      "Name:  Honda\n",
      "Name:  2000\n",
      "Name:  maruthi\n",
      "Name:  1000\n"
     ]
    }
   ],
   "source": [
    "# write a program to find cars price less than 2000\n",
    "\n",
    "cars = [\n",
    "    {'brand': \"Honda\",\n",
    "     'price': 2000\n",
    "    },\n",
    "    {'brand': \"audi\",\n",
    "     'price': 4000\n",
    "    },\n",
    "    {'brand': \"maruthi\",\n",
    "     'price': 1000\n",
    "    }\n",
    "]\n",
    "\n",
    "\n",
    "price_filter = 2000\n",
    "\n",
    "for car in cars:\n",
    "    price = car['price']\n",
    "    if price > price_filter:\n",
    "        continue\n",
    "    \n",
    "    print(\"Name: \", car['brand'])\n",
    "    print(\"Name: \", price)\n",
    "    \n",
    "    "
   ]
  },
  {
   "cell_type": "code",
   "execution_count": 37,
   "id": "52583d6d-92e7-4513-95a6-c5440d9f9207",
   "metadata": {},
   "outputs": [
    {
     "name": "stdout",
     "output_type": "stream",
     "text": [
      "m\n",
      "g\n",
      "n\n",
      "g\n",
      "t\n",
      "h\n",
      "m\n",
      "t\n",
      "w\n",
      "n\n",
      "t\n",
      "d\n",
      "y\n",
      "n\n",
      "g\n",
      "h\n",
      "t\n",
      "mgngthmtwntdynght\n"
     ]
    }
   ],
   "source": [
    "# write a prorgam to print all chars except vowels\n",
    "\n",
    "message = \"i am going to home town today night\"\n",
    "\n",
    "vowels = ['a', 'e', 'i', 'o', 'u']\n",
    "\n",
    "for char in message:\n",
    "    if char in vowels or char == ' ':\n",
    "        continue \n",
    "        \n",
    "    print(char)\n",
    "\n",
    "print(out_str)"
   ]
  },
  {
   "cell_type": "code",
   "execution_count": null,
   "id": "3f7b5297-c876-4589-8b29-d16808f41736",
   "metadata": {},
   "outputs": [],
   "source": [
    "# q)  where we use break and continue?\n",
    "# inside loops, for , while \n",
    "\n",
    "# q) can we use break or continue in if condition?\n",
    "#\n"
   ]
  }
 ],
 "metadata": {
  "kernelspec": {
   "display_name": "Python 3 (ipykernel)",
   "language": "python",
   "name": "python3"
  },
  "language_info": {
   "codemirror_mode": {
    "name": "ipython",
    "version": 3
   },
   "file_extension": ".py",
   "mimetype": "text/x-python",
   "name": "python",
   "nbconvert_exporter": "python",
   "pygments_lexer": "ipython3",
   "version": "3.10.4"
  }
 },
 "nbformat": 4,
 "nbformat_minor": 5
}
