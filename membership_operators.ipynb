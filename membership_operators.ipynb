{
 "cells": [
  {
   "cell_type": "code",
   "execution_count": 4,
   "id": "83325bc9-3023-4428-80bc-5c23f260f5f6",
   "metadata": {},
   "outputs": [
    {
     "name": "stdout",
     "output_type": "stream",
     "text": [
      "True\n",
      "False\n",
      "True\n",
      "False\n"
     ]
    }
   ],
   "source": [
    "# in\n",
    "# not in\n",
    "\n",
    "data = [1, 2, 3, 4]\n",
    "\n",
    "print(4 in data)\n",
    "print(4 not in data)\n",
    "print(5 not in data)\n",
    "print(5 in data)"
   ]
  },
  {
   "cell_type": "code",
   "execution_count": 10,
   "id": "52124611-b168-4832-948f-34eaba9746fd",
   "metadata": {},
   "outputs": [
    {
     "name": "stdout",
     "output_type": "stream",
     "text": [
      "False\n",
      "True\n",
      "True\n",
      "False\n"
     ]
    }
   ],
   "source": [
    "# str\n",
    "name = \"Badra\"\n",
    "print(\"b\" in name)\n",
    "print(\"Ba\" in name)\n",
    "print(\"ra\" in name)\n",
    "print('ar' in name)"
   ]
  },
  {
   "cell_type": "raw",
   "id": "9acaa7cc-8c9c-44c6-8b5b-fa59c5aed9d3",
   "metadata": {},
   "source": [
    "colors  = ['green', 'red']\n",
    "print(colors)"
   ]
  },
  {
   "cell_type": "code",
   "execution_count": 12,
   "id": "5c22d5a0-8dea-4a4c-a31b-a8e7cccfe5ed",
   "metadata": {},
   "outputs": [
    {
     "name": "stdout",
     "output_type": "stream",
     "text": [
      "True\n"
     ]
    }
   ],
   "source": [
    "colors = ['green', 'red']\n",
    "print(\"red\" in colors)\n"
   ]
  },
  {
   "cell_type": "code",
   "execution_count": 16,
   "id": "225eb168-d767-4cd5-b4da-44f679c79680",
   "metadata": {},
   "outputs": [
    {
     "name": "stdout",
     "output_type": "stream",
     "text": [
      "item not found\n"
     ]
    }
   ],
   "source": [
    "data = (1, 2,3,4)\n",
    "if 5 not in data:\n",
    "    print(\"item not found\")\n"
   ]
  },
  {
   "cell_type": "code",
   "execution_count": null,
   "id": "bfe0ee51-9e3d-4c05-9937-a10bd0dd8de8",
   "metadata": {},
   "outputs": [],
   "source": []
  }
 ],
 "metadata": {
  "kernelspec": {
   "display_name": "Python 3 (ipykernel)",
   "language": "python",
   "name": "python3"
  },
  "language_info": {
   "codemirror_mode": {
    "name": "ipython",
    "version": 3
   },
   "file_extension": ".py",
   "mimetype": "text/x-python",
   "name": "python",
   "nbconvert_exporter": "python",
   "pygments_lexer": "ipython3",
   "version": "3.10.4"
  }
 },
 "nbformat": 4,
 "nbformat_minor": 5
}
