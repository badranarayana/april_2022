{
 "cells": [
  {
   "cell_type": "code",
   "execution_count": 2,
   "id": "91a608eb-afaf-4f50-8fc6-51f4e0b02d8e",
   "metadata": {},
   "outputs": [
    {
     "name": "stdout",
     "output_type": "stream",
     "text": [
      "Hello worlddjjdjd\n"
     ]
    }
   ],
   "source": [
    "print(\"Hello worlddjjdjd\")"
   ]
  },
  {
   "cell_type": "code",
   "execution_count": null,
   "id": "dfbdae2f-b4fb-404b-9ced-6f0df79fcf56",
   "metadata": {},
   "outputs": [],
   "source": [
    "# print() --> it is an built -in function used to print the output to the screen"
   ]
  },
  {
   "cell_type": "code",
   "execution_count": 3,
   "id": "70ebf012-1899-4482-97dc-5c5aa11e4f14",
   "metadata": {},
   "outputs": [
    {
     "name": "stdout",
     "output_type": "stream",
     "text": [
      "Suman IT\n"
     ]
    }
   ],
   "source": [
    "print(\"Suman IT\")"
   ]
  },
  {
   "cell_type": "code",
   "execution_count": 4,
   "id": "5af823e7-f85b-4453-a2a6-904cbd000ec2",
   "metadata": {},
   "outputs": [
    {
     "name": "stdout",
     "output_type": "stream",
     "text": [
      "10\n"
     ]
    }
   ],
   "source": [
    "print(10)"
   ]
  },
  {
   "cell_type": "code",
   "execution_count": null,
   "id": "c3dacca9-97ba-4b8a-b89b-8b9e17554670",
   "metadata": {},
   "outputs": [],
   "source": [
    "# what is variable?\n",
    "\n",
    "a = 30\n",
    "b = 20\n",
    "# python uses two kind of memories\n",
    "# stack  -> identifiers(like variable, functions) and refere to object location(heap location)\n",
    "# heap  --< store objects(inim str,,,)\n",
    "\n",
    "\n",
    "# 30 going to store heap memery at xyz\n",
    "# a going to store stack memeory and holds object reference(xyz)"
   ]
  },
  {
   "cell_type": "code",
   "execution_count": 5,
   "id": "56f545e0-9cfb-4415-95a0-9652b41e51f9",
   "metadata": {},
   "outputs": [
    {
     "name": "stdout",
     "output_type": "stream",
     "text": [
      "<class 'int'>\n"
     ]
    }
   ],
   "source": [
    "# lets create variable to store int object\n",
    "# numbers\n",
    "# int\n",
    "# float\n",
    "# complext\n",
    "\n",
    "phone_number = 9010326381\n",
    "\n",
    "# Note: we no need to declare data type while creating/defining variables.\n",
    "# python is dynamic type programming lanaguge, type will decide runtime based on value assigning\n",
    "\n",
    "# lets print type of phone number\n",
    "\n",
    "print(type(phone_number))\n",
    "\n"
   ]
  },
  {
   "cell_type": "code",
   "execution_count": 8,
   "id": "59f4198d-689f-442e-953b-ae40d3a96dd2",
   "metadata": {},
   "outputs": [
    {
     "name": "stdout",
     "output_type": "stream",
     "text": [
      "<class 'float'>\n"
     ]
    }
   ],
   "source": [
    "# lets define variable to store float\n",
    "price = 124.55\n",
    "\n",
    "print(type(price))\n"
   ]
  },
  {
   "cell_type": "code",
   "execution_count": 9,
   "id": "2c764550-cb3c-48a6-ad79-73e6c257f98b",
   "metadata": {},
   "outputs": [
    {
     "name": "stdout",
     "output_type": "stream",
     "text": [
      "<class 'complex'>\n"
     ]
    }
   ],
   "source": [
    "# complex\n",
    "data = 3 + 4j\n",
    "\n",
    "print(type(data))"
   ]
  },
  {
   "cell_type": "code",
   "execution_count": 10,
   "id": "3b37dda3-a9ae-4c90-9461-06ea71eac6fe",
   "metadata": {},
   "outputs": [
    {
     "name": "stdout",
     "output_type": "stream",
     "text": [
      "<class 'str'>\n"
     ]
    }
   ],
   "source": [
    "# lets store string data\n",
    "\n",
    "# \"\", '', \"\"\" \"\"\"\n",
    "# there is no char type\n",
    "\n",
    "location = \"Bangalore\"\n",
    "print(type(location))"
   ]
  },
  {
   "cell_type": "code",
   "execution_count": 11,
   "id": "beb9787c-70e4-487e-b4d6-175160aab1dc",
   "metadata": {},
   "outputs": [
    {
     "name": "stdout",
     "output_type": "stream",
     "text": [
      "<class 'list'>\n"
     ]
    }
   ],
   "source": [
    "# lets define list\n",
    "colors = ['green', 'red', 'yellow']   # mutable(modification can be done)\n",
    "\n",
    "print(type(colors))"
   ]
  },
  {
   "cell_type": "code",
   "execution_count": null,
   "id": "ca48413d-72c8-4304-9b6e-4bb5cb45b544",
   "metadata": {},
   "outputs": [],
   "source": [
    "# single var assignment\n",
    "a = 10\n",
    "b = 20\n",
    "\n",
    "c = 0\n",
    "d = 0\n",
    "e = 0\n",
    "\n",
    "# multiple assignemnt\n",
    "c = d = e = 0\n",
    "\n",
    "# c, d, e are the variables going to store value 0"
   ]
  },
  {
   "cell_type": "code",
   "execution_count": 12,
   "id": "17c7f824-7f48-4cb1-b113-639e903a5c08",
   "metadata": {},
   "outputs": [
    {
     "name": "stdout",
     "output_type": "stream",
     "text": [
      "3\n",
      "4\n"
     ]
    }
   ],
   "source": [
    "a, b = 3, 4\n",
    "print(a)\n",
    "print(b)"
   ]
  },
  {
   "cell_type": "code",
   "execution_count": 21,
   "id": "2a0f5f8d-b645-4365-af6d-b32ecd7bd058",
   "metadata": {},
   "outputs": [
    {
     "name": "stdout",
     "output_type": "stream",
     "text": [
      "20 ---> 60\n"
     ]
    }
   ],
   "source": [
    "a,b = 10,30\n",
    "\n",
    "c, d = a * 2, b * 2\n",
    "\n",
    "print(c,\"--->\", d)\n"
   ]
  },
  {
   "cell_type": "code",
   "execution_count": 22,
   "id": "333efac0-ed48-47ab-b543-83e5266ea9ca",
   "metadata": {},
   "outputs": [
    {
     "name": "stdout",
     "output_type": "stream",
     "text": [
      "30 30 30\n"
     ]
    }
   ],
   "source": [
    "# how do we define same value to multiple variable in single line?\n",
    "a=b=c=30\n",
    "print(a, b, c)\n"
   ]
  },
  {
   "cell_type": "code",
   "execution_count": 24,
   "id": "bc3559ce-9ba6-4e39-95c6-251b58aea852",
   "metadata": {},
   "outputs": [
    {
     "name": "stdout",
     "output_type": "stream",
     "text": [
      "30\n"
     ]
    }
   ],
   "source": [
    "# how do we define variable to store 30 in python?\n",
    "age = 30\n",
    "print(age)"
   ]
  },
  {
   "cell_type": "code",
   "execution_count": 29,
   "id": "5a5036ee-4609-420c-9603-1c05fc52259a",
   "metadata": {},
   "outputs": [
    {
     "name": "stdout",
     "output_type": "stream",
     "text": [
      "Wipro\n",
      "<class 'str'>\n"
     ]
    }
   ],
   "source": [
    "# define variable to store sting data\n",
    "company = \"Wipro\"\n",
    "print(company)\n",
    "print(type(company))"
   ]
  },
  {
   "cell_type": "code",
   "execution_count": 26,
   "id": "251ff7d4-79b9-4c77-9149-1bff040181f3",
   "metadata": {},
   "outputs": [
    {
     "name": "stdout",
     "output_type": "stream",
     "text": [
      "['raghu', 'ramu', 'ajay']\n"
     ]
    }
   ],
   "source": [
    "# write a program to define list data into variable?\n",
    "\n",
    "friends = ['raghu', 'ramu', 'ajay']\n",
    "\n",
    "# Array[str] friends = Array(['r])\n",
    "\n",
    "print(friends)"
   ]
  },
  {
   "cell_type": "code",
   "execution_count": null,
   "id": "4db5ecc4-73b8-4fd8-81b2-3394104aeea1",
   "metadata": {},
   "outputs": [],
   "source": [
    "# + , - , *, **"
   ]
  }
 ],
 "metadata": {
  "kernelspec": {
   "display_name": "Python 3 (ipykernel)",
   "language": "python",
   "name": "python3"
  },
  "language_info": {
   "codemirror_mode": {
    "name": "ipython",
    "version": 3
   },
   "file_extension": ".py",
   "mimetype": "text/x-python",
   "name": "python",
   "nbconvert_exporter": "python",
   "pygments_lexer": "ipython3",
   "version": "3.10.4"
  }
 },
 "nbformat": 4,
 "nbformat_minor": 5
}
